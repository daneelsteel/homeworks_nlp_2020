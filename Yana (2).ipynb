{
  "nbformat": 4,
  "nbformat_minor": 0,
  "metadata": {
    "kernelspec": {
      "display_name": "Python 3",
      "language": "python",
      "name": "python3"
    },
    "language_info": {
      "codemirror_mode": {
        "name": "ipython",
        "version": 3
      },
      "file_extension": ".py",
      "mimetype": "text/x-python",
      "name": "python",
      "nbconvert_exporter": "python",
      "pygments_lexer": "ipython3",
      "version": "3.7.4"
    },
    "colab": {
      "name": "Yana (2).ipynb",
      "provenance": []
    }
  },
  "cells": [
    {
      "cell_type": "markdown",
      "metadata": {
        "id": "8YgImgp2yPF7"
      },
      "source": [
        "# Проект"
      ]
    },
    {
      "cell_type": "markdown",
      "metadata": {
        "id": "95pflUoFyPF9"
      },
      "source": [
        "### оставь надежду, всяк сюда входящий - возьми лучше корпус"
      ]
    },
    {
      "cell_type": "markdown",
      "metadata": {
        "id": "1GHObOdGyPF-"
      },
      "source": [
        "ячейка для импортов"
      ]
    },
    {
      "cell_type": "code",
      "metadata": {
        "id": "OTJEAVdKyPF_",
        "outputId": "3d7ae90d-65f4-4341-e5f8-b927015db519",
        "colab": {
          "base_uri": "https://localhost:8080/",
          "height": 212
        }
      },
      "source": [
        "%pip install pymorphy2\n",
        "import requests\n",
        "from tqdm import tqdm\n",
        "from bs4 import BeautifulSoup\n",
        "from fake_useragent import UserAgent\n",
        "from nltk import word_tokenize\n",
        "from pymorphy2 import MorphAnalyzer\n",
        "morph = MorphAnalyzer()\n",
        "\n",
        "import pandas as pd\n",
        "\n",
        "import numpy as np\n",
        "\n",
        "ua = UserAgent(verify_ssl=False)\n",
        "session = requests.session()"
      ],
      "execution_count": 5,
      "outputs": [
        {
          "output_type": "stream",
          "text": [
            "Collecting pymorphy2\n",
            "\u001b[?25l  Downloading https://files.pythonhosted.org/packages/07/57/b2ff2fae3376d4f3c697b9886b64a54b476e1a332c67eee9f88e7f1ae8c9/pymorphy2-0.9.1-py3-none-any.whl (55kB)\n",
            "\u001b[K     |████████████████████████████████| 61kB 2.7MB/s \n",
            "\u001b[?25hCollecting dawg-python>=0.7.1\n",
            "  Downloading https://files.pythonhosted.org/packages/6a/84/ff1ce2071d4c650ec85745766c0047ccc3b5036f1d03559fd46bb38b5eeb/DAWG_Python-0.7.2-py2.py3-none-any.whl\n",
            "Requirement already satisfied: docopt>=0.6 in /usr/local/lib/python3.6/dist-packages (from pymorphy2) (0.6.2)\n",
            "Collecting pymorphy2-dicts-ru<3.0,>=2.4\n",
            "\u001b[?25l  Downloading https://files.pythonhosted.org/packages/3a/79/bea0021eeb7eeefde22ef9e96badf174068a2dd20264b9a378f2be1cdd9e/pymorphy2_dicts_ru-2.4.417127.4579844-py2.py3-none-any.whl (8.2MB)\n",
            "\u001b[K     |████████████████████████████████| 8.2MB 5.7MB/s \n",
            "\u001b[?25hInstalling collected packages: dawg-python, pymorphy2-dicts-ru, pymorphy2\n",
            "Successfully installed dawg-python-0.7.2 pymorphy2-0.9.1 pymorphy2-dicts-ru-2.4.417127.4579844\n"
          ],
          "name": "stdout"
        }
      ]
    },
    {
      "cell_type": "markdown",
      "metadata": {
        "id": "oFglkZ90yPGI"
      },
      "source": [
        "Ячейка для обкачивания ссылок на новости с сайта гордой газеты Московский комсомолец, а точнее, ее раздела \"проишествия\""
      ]
    },
    {
      "cell_type": "code",
      "metadata": {
        "id": "peB6gLQByPGJ",
        "outputId": "c516b3c0-311e-4635-e6c7-4be2c93aa3b2",
        "colab": {
          "base_uri": "https://localhost:8080/",
          "height": 177
        }
      },
      "source": [
        "news = []\n",
        "page_number = 0\n",
        "for i in tqdm(range(4)):\n",
        "    page_number += 1\n",
        "    url = f'https://www.mk.ru/incident/{page_number}/'\n",
        "    req = session.get(url, headers={'User-Agent': ua.random})\n",
        "    print(req)\n",
        "    req.encoding = 'utf-8'\n",
        "    page = req.text\n",
        "    soup = BeautifulSoup(page, 'html.parser')\n",
        "    each_news = soup.find_all('div', {'class': 'listing-item__content'})\n",
        "    if each_news:\n",
        "        print(len(each_news))\n",
        "    for one_piece in each_news:\n",
        "        link = one_piece.find('a', {'class': 'listing-preview__content'}).attrs['href']\n",
        "        news.append(link)"
      ],
      "execution_count": 6,
      "outputs": [
        {
          "output_type": "stream",
          "text": [
            "\r  0%|          | 0/4 [00:00<?, ?it/s]"
          ],
          "name": "stderr"
        },
        {
          "output_type": "stream",
          "text": [
            "<Response [200]>\n"
          ],
          "name": "stdout"
        },
        {
          "output_type": "stream",
          "text": [
            "\r 25%|██▌       | 1/4 [00:01<00:04,  1.66s/it]"
          ],
          "name": "stderr"
        },
        {
          "output_type": "stream",
          "text": [
            "30\n"
          ],
          "name": "stdout"
        },
        {
          "output_type": "stream",
          "text": [
            "\r 50%|█████     | 2/4 [00:02<00:02,  1.36s/it]"
          ],
          "name": "stderr"
        },
        {
          "output_type": "stream",
          "text": [
            "<Response [200]>\n",
            "30\n"
          ],
          "name": "stdout"
        },
        {
          "output_type": "stream",
          "text": [
            "\r 75%|███████▌  | 3/4 [00:03<00:01,  1.17s/it]"
          ],
          "name": "stderr"
        },
        {
          "output_type": "stream",
          "text": [
            "<Response [200]>\n",
            "30\n"
          ],
          "name": "stdout"
        },
        {
          "output_type": "stream",
          "text": [
            "100%|██████████| 4/4 [00:03<00:00,  1.08it/s]"
          ],
          "name": "stderr"
        },
        {
          "output_type": "stream",
          "text": [
            "<Response [200]>\n",
            "30\n"
          ],
          "name": "stdout"
        },
        {
          "output_type": "stream",
          "text": [
            "\n"
          ],
          "name": "stderr"
        }
      ]
    },
    {
      "cell_type": "code",
      "metadata": {
        "id": "Kz34pugcyPGO",
        "outputId": "4965c1d3-7388-41a9-be4d-a225e8e449cb",
        "colab": {
          "base_uri": "https://localhost:8080/",
          "height": 35
        }
      },
      "source": [
        "print(len(news))"
      ],
      "execution_count": 7,
      "outputs": [
        {
          "output_type": "stream",
          "text": [
            "120\n"
          ],
          "name": "stdout"
        }
      ]
    },
    {
      "cell_type": "markdown",
      "metadata": {
        "id": "0O6QMEFcyPGW"
      },
      "source": [
        "Глянем, наберется ли в каждой из этой сотни новостей нужное количество слов, заодно посмотрим, что там происходит"
      ]
    },
    {
      "cell_type": "code",
      "metadata": {
        "id": "jOou5_ZvyPGY",
        "outputId": "07fcc262-e9be-4ad7-d015-128a4dd77adb",
        "colab": {
          "base_uri": "https://localhost:8080/",
          "height": 55
        }
      },
      "source": [
        "link = news[10]\n",
        "req = session.get(link, headers={'User-Agent': ua.random})\n",
        "req.encoding = 'utf-8'\n",
        "req = req.text\n",
        "req = BeautifulSoup(req, 'html.parser')\n",
        "new_text = req.find('div', {'class': \"article__body\"}) #.text.lower()\n",
        "#print(new_text)\n",
        "new_text = new_text.find_all('p') #.text.lower()\n",
        "print(new_text)"
      ],
      "execution_count": 8,
      "outputs": [
        {
          "output_type": "stream",
          "text": [
            "[<p><strong>Лже-медики.</strong> Облапошивание начинается со звонка строгим голосом из некой официальной организации (названо может быть все что угодно — от районной поликлиники и санэпидемстанции до Минздрава и ВОЗ). Жертву ставят в известность, что она предположительно контактировала с носителем COVID-19 и теперь ей надо срочно сдать тест. А поскольку «контактные» лица обязаны соблюдать самоизоляцию, медики осуществят забор материала для анализа на дому. Далее к абоненту, пока он не успел прийти в себя, оперативно прибывает бригада «медиков», берет образец слюны, 5000 руб оплаты с учетом выезда на дом — и исчезает навсегда.</p>, <p><strong>Лже-полицейские.</strong> По оценке экспертов, когда в дверь звонит человек в полицейской форме со словами, что вам выписан штраф «за нарушение противоковидной безопасности», ему открывает 80% граждан. В основном с целью прояснить ситуацию и доказать, что нарушения не было. Но «полицейский» уверенно настаивает на своем, показывает заранее заготовленный бланк с именем жертвы и предлагает оплатить штраф прямо на месте, чтобы не попасть на пени. По статистике, если объявленная сумма штрафа в пределах 500 руб, с деньгами покорно расстаются почти все открывшие дверь. Таково магическое воздействие на наше сознание формы полиции.</p>, <p><strong>Лже-волонтеры.</strong> Эти деятели спекулируют темой коронавируса, чтобы нажиться на пожилых и больных. Им предлагают помощь с оплатой счетов ЖКХ, покупкой продуктов или лекарств, чтобы они лишний раз не рисковали здоровьем, выходя из дома. Получив поручение и деньги, мошенники исчезают.</p>, <p><strong>Лже-соцработники.</strong> Злоумышленники, чья цель добыть личные данные пенсионеров и сведения об их жилплощади и потенциальных наследниках, могут представляться сотрудниками служб соцобеспечения или пенсионного фонда, что позволяет им выспрашивать у жертв номер пенсионной карты. Не обошли вниманием коронавирусные «остапы бендеры» и новую штатную единицу в социальных службах — типизатора, который проводит анкетирование среди пожилых с целью определения степени зависимости пенсионера от посторонней помощи при уходе за собой и жильем. Типизация нужна для оптимизации работы социальных служб, но возможностью сбора сведений и осмотра жилплощади под видом типизатора может воспользоваться злоумышленник любого уровня — от мелкого воришки до черного риелтора.</p>, <p><strong>Лже-дезинфекторы. </strong>Люди в защитной спецодежде звонят в дверь и требуют впустить их для «обязательной дезинфекции помещений». За свои услуги визитеры взимают оплату наличными и впрямь опрыскивают помещение чем-то химическим, прося хозяина переждать в кухне, надев маску. А после «дезинфекции» из квартиры пропадают деньги и ценности.</p>, <p><strong>Лже-контролеры.</strong> Звонят в дверь по двое, представляясь «контролерами температуры» от администрации. Разъясняют, что такие проверяющие нужны для мониторинга распространения инфекции. Доверчивым один из двоих измеряет температуру, а другой тем временем ловко прибирает к рукам хозяйские ценности и деньги.</p>, <p>Предостерегая от мошенников, адвокат Валерий Чесных напоминает, что они могут принимать самые разные обличья. К примеру, в прошлую волну пандемии правоохранители обезвредили банду «сотрудников поликлиник», действовавшую сразу в нескольких субъектах РФ.</p>, <p>- Преступники звонили гражданам, представляясь работниками городских поликлиник, и сообщали об их якобы «очень тревожных» результатах анализов. Опасаясь за свое здоровье, жертвы обмана соглашались на покупку дорогостоящих лекарств, под видом которых им втридорога продавали в лучшем случае бесполезные биодобавки, а в худшем - «химию» непонятного происхождения.</p>, <p>Злоумышленники могут также ходить по домам, «оформляя заявки на льготные путевки в санаторий», для чего требуется сообщить личные данные и внести предоплату.</p>, <p>Не открывайте дверь незнакомцам, как бы они себя ни называли. Интересуйтесь через дверь ФИО и должностью нежданного визитера, пояснив, что намерены сначала позвонить в названную организацию и уточнить, есть ли там такой сотрудник. Мошенники не станут ждать разоблачения и ретируются сами.</p>, <p>Не оплачивайте никаких «штрафов на месте»: настоящий полицейский может их только выписать, но никак не получить. Никому не сообщайте свои личные данные по телефону, кем бы звонящий ни представлялся. Столкнувшись с настойчивыми попытками под любым предлогом выманить данные, деньги, проникнуть в дом, сообщайте об этом в полицию. А если нуждаетесь в помощи волонтеров или в мерах по санобработке, то позвоните на горячую линию, которые организованы во всех регионах специально для предоставления информации о коронавирусе.</p>]\n"
          ],
          "name": "stdout"
        }
      ]
    },
    {
      "cell_type": "markdown",
      "metadata": {
        "id": "98S_wtM9yPGj"
      },
      "source": [
        "Что и ожидалось от раздела Проишествия. Но тут точно есть сто слов!"
      ]
    },
    {
      "cell_type": "markdown",
      "metadata": {
        "id": "dilzd7P6yPGl"
      },
      "source": [
        "Пойдем используем собранный список ссылок и обкачаем сайт нормально"
      ]
    },
    {
      "cell_type": "code",
      "metadata": {
        "id": "dymJM6kzyPGm"
      },
      "source": [
        "def get_full_news(link_list):\n",
        "    texts = []\n",
        "    titles = []\n",
        "    for link in tqdm(link_list):\n",
        "        news = []\n",
        "        req = session.get(link, headers={'User-Agent': ua.random})\n",
        "        req.encoding = 'utf-8'\n",
        "        req = req.text\n",
        "        req = BeautifulSoup(req, 'html.parser')\n",
        "        title = req.find('h1', {'class': \"article__title\"})\n",
        "        titles.append(title)\n",
        "        new_text = req.find('div', {'class': \"article__body\"})\n",
        "        new_text = new_text.find_all('p')\n",
        "        for p in new_text:\n",
        "            p = p.text\n",
        "            news.append(p)\n",
        "        texts.append(news)\n",
        "    return titles, texts"
      ],
      "execution_count": 9,
      "outputs": []
    },
    {
      "cell_type": "code",
      "metadata": {
        "id": "xvA5zXNCyPGr",
        "outputId": "c0e8e2ea-d118-415b-dc09-bec5b96ff6d0",
        "colab": {
          "base_uri": "https://localhost:8080/",
          "height": 52
        }
      },
      "source": [
        "titles, texts = get_full_news(news)\n",
        "if len(texts)==len(titles):\n",
        "    print('all clear!')"
      ],
      "execution_count": 10,
      "outputs": [
        {
          "output_type": "stream",
          "text": [
            "100%|██████████| 120/120 [00:50<00:00,  2.36it/s]"
          ],
          "name": "stderr"
        },
        {
          "output_type": "stream",
          "text": [
            "all clear!\n"
          ],
          "name": "stdout"
        },
        {
          "output_type": "stream",
          "text": [
            "\n"
          ],
          "name": "stderr"
        }
      ]
    },
    {
      "cell_type": "markdown",
      "metadata": {
        "id": "gFmAhRmvyPGx"
      },
      "source": [
        "Ячейка для предобработки. Не удивляйтесь, почему я тут токенизирую, а потом передумываю - так надо, такой датафрейм специфический"
      ]
    },
    {
      "cell_type": "code",
      "metadata": {
        "id": "FeqzwnXryPGz"
      },
      "source": [
        "def texts_process(texts):\n",
        "    new_texts = []\n",
        "    for text in texts:\n",
        "        new_text = ''\n",
        "        for paragraph in text:\n",
        "            if not paragraph.startswith('\\n') and not paragraph.startswith('Читайте также:'):\n",
        "                new_text = new_text + paragraph +' '\n",
        "                \n",
        "        new_text = word_tokenize(new_text)\n",
        "        new_text = ' '.join(new_text)\n",
        "        new_texts.append(new_text)\n",
        "    return new_texts"
      ],
      "execution_count": 11,
      "outputs": []
    },
    {
      "cell_type": "markdown",
      "metadata": {
        "id": "KDWmR8qnyPG4"
      },
      "source": [
        "К заголовкам у нас не будет особых требований, мы по ним просто ориентируемся, так что просто сделаем служебную скучную функцию с непонятными переменными, чтобы преобразовывать их из типа Тег в тип Строка"
      ]
    },
    {
      "cell_type": "code",
      "metadata": {
        "id": "yd2PWcTbyPG4"
      },
      "source": [
        "def title_process(texts):\n",
        "    new_texts = []\n",
        "    for text in texts:\n",
        "        text = text.text\n",
        "        new_texts.append(text)\n",
        "    return new_texts"
      ],
      "execution_count": 12,
      "outputs": []
    },
    {
      "cell_type": "markdown",
      "metadata": {
        "id": "KGka44MlyPG-"
      },
      "source": [
        "Обработаем данные и соберем в наш первый датафрейм"
      ]
    },
    {
      "cell_type": "code",
      "metadata": {
        "id": "J4xRnh3xyPG_",
        "outputId": "af4ae30f-7fc0-4818-d428-62c73fe73563",
        "colab": {
          "base_uri": "https://localhost:8080/",
          "height": 435
        }
      },
      "source": [
        "import nltk\n",
        "nltk.download('punkt')\n",
        "clear_texts = texts_process(texts)\n",
        "clear_titles = title_process(titles)\n",
        "df = pd.DataFrame(list(zip(clear_titles, clear_texts)), \n",
        "               columns =['titles', 'full_texts']) \n",
        "df"
      ],
      "execution_count": 14,
      "outputs": [
        {
          "output_type": "stream",
          "text": [
            "[nltk_data] Downloading package punkt to /root/nltk_data...\n",
            "[nltk_data]   Unzipping tokenizers/punkt.zip.\n"
          ],
          "name": "stdout"
        },
        {
          "output_type": "execute_result",
          "data": {
            "text/html": [
              "<div>\n",
              "<style scoped>\n",
              "    .dataframe tbody tr th:only-of-type {\n",
              "        vertical-align: middle;\n",
              "    }\n",
              "\n",
              "    .dataframe tbody tr th {\n",
              "        vertical-align: top;\n",
              "    }\n",
              "\n",
              "    .dataframe thead th {\n",
              "        text-align: right;\n",
              "    }\n",
              "</style>\n",
              "<table border=\"1\" class=\"dataframe\">\n",
              "  <thead>\n",
              "    <tr style=\"text-align: right;\">\n",
              "      <th></th>\n",
              "      <th>titles</th>\n",
              "      <th>full_texts</th>\n",
              "    </tr>\n",
              "  </thead>\n",
              "  <tbody>\n",
              "    <tr>\n",
              "      <th>0</th>\n",
              "      <td>Жуткие подробности подготовки бойни в аграрном...</td>\n",
              "      <td>Как стало известно « МК » , устроить « шутинг ...</td>\n",
              "    </tr>\n",
              "    <tr>\n",
              "      <th>1</th>\n",
              "      <td>Мать, бросившая детей на АЗС, объяснила свой п...</td>\n",
              "      <td>34-летняя жительница Одинцова ехала на своей м...</td>\n",
              "    </tr>\n",
              "    <tr>\n",
              "      <th>2</th>\n",
              "      <td>Аферисты похитили у семьи крымского священника...</td>\n",
              "      <td>По данным издания , жертвой мошенничества стал...</td>\n",
              "    </tr>\n",
              "    <tr>\n",
              "      <th>3</th>\n",
              "      <td>Банда начала зверски убивать кошек в Лобне</td>\n",
              "      <td>Страх и ужас своей расправой над беззащитными ...</td>\n",
              "    </tr>\n",
              "    <tr>\n",
              "      <th>4</th>\n",
              "      <td>Студентка-экскурсовод умерла внезапной смертью...</td>\n",
              "      <td>Погибшая Дарья в числе остальных слушателей уч...</td>\n",
              "    </tr>\n",
              "    <tr>\n",
              "      <th>...</th>\n",
              "      <td>...</td>\n",
              "      <td>...</td>\n",
              "    </tr>\n",
              "    <tr>\n",
              "      <th>115</th>\n",
              "      <td>В Саратове \"друг семьи\" годами насиловал школь...</td>\n",
              "      <td>По информации ведомства , следственным отделом...</td>\n",
              "    </tr>\n",
              "    <tr>\n",
              "      <th>116</th>\n",
              "      <td>Отец убитой историком Соколовым Ещенко ответил...</td>\n",
              "      <td>Вчера на заседании суда в Санкт-Петербурге Сок...</td>\n",
              "    </tr>\n",
              "    <tr>\n",
              "      <th>117</th>\n",
              "      <td>В Москве женщину заставили мастурбировать, а п...</td>\n",
              "      <td>Москвичка до полуночи отдыхала в одном из клуб...</td>\n",
              "    </tr>\n",
              "    <tr>\n",
              "      <th>118</th>\n",
              "      <td>Появились шокирующие подробности убийства тран...</td>\n",
              "      <td>По версии следствия , в день убийства 20-летни...</td>\n",
              "    </tr>\n",
              "    <tr>\n",
              "      <th>119</th>\n",
              "      <td>Обвиненный в изнасиловании дочери добился комп...</td>\n",
              "      <td>Как сообщал в свое время « МК » , маньяк-санте...</td>\n",
              "    </tr>\n",
              "  </tbody>\n",
              "</table>\n",
              "<p>120 rows × 2 columns</p>\n",
              "</div>"
            ],
            "text/plain": [
              "                                                titles                                         full_texts\n",
              "0    Жуткие подробности подготовки бойни в аграрном...  Как стало известно « МК » , устроить « шутинг ...\n",
              "1    Мать, бросившая детей на АЗС, объяснила свой п...  34-летняя жительница Одинцова ехала на своей м...\n",
              "2    Аферисты похитили у семьи крымского священника...  По данным издания , жертвой мошенничества стал...\n",
              "3           Банда начала зверски убивать кошек в Лобне  Страх и ужас своей расправой над беззащитными ...\n",
              "4    Студентка-экскурсовод умерла внезапной смертью...  Погибшая Дарья в числе остальных слушателей уч...\n",
              "..                                                 ...                                                ...\n",
              "115  В Саратове \"друг семьи\" годами насиловал школь...  По информации ведомства , следственным отделом...\n",
              "116  Отец убитой историком Соколовым Ещенко ответил...  Вчера на заседании суда в Санкт-Петербурге Сок...\n",
              "117  В Москве женщину заставили мастурбировать, а п...  Москвичка до полуночи отдыхала в одном из клуб...\n",
              "118  Появились шокирующие подробности убийства тран...  По версии следствия , в день убийства 20-летни...\n",
              "119  Обвиненный в изнасиловании дочери добился комп...  Как сообщал в свое время « МК » , маньяк-санте...\n",
              "\n",
              "[120 rows x 2 columns]"
            ]
          },
          "metadata": {
            "tags": []
          },
          "execution_count": 14
        }
      ]
    },
    {
      "cell_type": "markdown",
      "metadata": {
        "id": "IYp9JALoyPHE"
      },
      "source": [
        "Это здорово! Сохраним, на всякий случай"
      ]
    },
    {
      "cell_type": "code",
      "metadata": {
        "id": "4e_cNNxmyPHF"
      },
      "source": [
        "df.to_csv('textbase_news_articles.csv')"
      ],
      "execution_count": null,
      "outputs": []
    },
    {
      "cell_type": "markdown",
      "metadata": {
        "id": "K4x6tGzhyPHM"
      },
      "source": [
        "А вот сейчас веселье и пойдет. Эта функция служит для того, чтобы разделить полные тексты по предложениям с созданием новой строки датафрейма, у которой будет идентичный заголовок"
      ]
    },
    {
      "cell_type": "code",
      "metadata": {
        "id": "XoSnBjxHyPHN"
      },
      "source": [
        "lst_col = 'full_texts' \n",
        "\n",
        "x = df.assign(**{lst_col:df[lst_col].str.split('.')})\n",
        "\n",
        "my_dataframe = pd.DataFrame({col:np.repeat(x[col].values, x[lst_col].str.len()) for col in x.columns.difference([lst_col])}).assign(**{lst_col:np.concatenate(x[lst_col].values)})[x.columns.tolist()]"
      ],
      "execution_count": 15,
      "outputs": []
    },
    {
      "cell_type": "code",
      "metadata": {
        "id": "U2x9fWFiyPHX",
        "outputId": "7598624a-b2a1-4baa-9887-c554e86bf201",
        "colab": {
          "base_uri": "https://localhost:8080/",
          "height": 399
        }
      },
      "source": [
        "my_dataframe"
      ],
      "execution_count": 16,
      "outputs": [
        {
          "output_type": "execute_result",
          "data": {
            "text/html": [
              "<div>\n",
              "<style scoped>\n",
              "    .dataframe tbody tr th:only-of-type {\n",
              "        vertical-align: middle;\n",
              "    }\n",
              "\n",
              "    .dataframe tbody tr th {\n",
              "        vertical-align: top;\n",
              "    }\n",
              "\n",
              "    .dataframe thead th {\n",
              "        text-align: right;\n",
              "    }\n",
              "</style>\n",
              "<table border=\"1\" class=\"dataframe\">\n",
              "  <thead>\n",
              "    <tr style=\"text-align: right;\">\n",
              "      <th></th>\n",
              "      <th>titles</th>\n",
              "      <th>full_texts</th>\n",
              "    </tr>\n",
              "  </thead>\n",
              "  <tbody>\n",
              "    <tr>\n",
              "      <th>0</th>\n",
              "      <td>Жуткие подробности подготовки бойни в аграрном...</td>\n",
              "      <td>Как стало известно « МК » , устроить « шутинг ...</td>\n",
              "    </tr>\n",
              "    <tr>\n",
              "      <th>1</th>\n",
              "      <td>Жуткие подробности подготовки бойни в аграрном...</td>\n",
              "      <td>У него не складывались отношения со сверстник...</td>\n",
              "    </tr>\n",
              "    <tr>\n",
              "      <th>2</th>\n",
              "      <td>Жуткие подробности подготовки бойни в аграрном...</td>\n",
              "      <td>Это и послужило мотивом для подготовки массов...</td>\n",
              "    </tr>\n",
              "    <tr>\n",
              "      <th>3</th>\n",
              "      <td>Жуткие подробности подготовки бойни в аграрном...</td>\n",
              "      <td>Банин не хотел устраивать теракт в одиночку</td>\n",
              "    </tr>\n",
              "    <tr>\n",
              "      <th>4</th>\n",
              "      <td>Жуткие подробности подготовки бойни в аграрном...</td>\n",
              "      <td>Осенью 2019 года он начал активно переписыват...</td>\n",
              "    </tr>\n",
              "    <tr>\n",
              "      <th>...</th>\n",
              "      <td>...</td>\n",
              "      <td>...</td>\n",
              "    </tr>\n",
              "    <tr>\n",
              "      <th>2457</th>\n",
              "      <td>Обвиненный в изнасиловании дочери добился комп...</td>\n",
              "      <td>Лишь стараниями следователей СК он вновь обре...</td>\n",
              "    </tr>\n",
              "    <tr>\n",
              "      <th>2458</th>\n",
              "      <td>Обвиненный в изнасиловании дочери добился комп...</td>\n",
              "      <td>Однако об аресте стало известно друзьям и кол...</td>\n",
              "    </tr>\n",
              "    <tr>\n",
              "      <th>2459</th>\n",
              "      <td>Обвиненный в изнасиловании дочери добился комп...</td>\n",
              "      <td>Чтобы восстановить свое доброе имя , отец пос...</td>\n",
              "    </tr>\n",
              "    <tr>\n",
              "      <th>2460</th>\n",
              "      <td>Обвиненный в изнасиловании дочери добился комп...</td>\n",
              "      <td>Каширский суд постановил выплатить ему компен...</td>\n",
              "    </tr>\n",
              "    <tr>\n",
              "      <th>2461</th>\n",
              "      <td>Обвиненный в изнасиловании дочери добился комп...</td>\n",
              "      <td></td>\n",
              "    </tr>\n",
              "  </tbody>\n",
              "</table>\n",
              "<p>2462 rows × 2 columns</p>\n",
              "</div>"
            ],
            "text/plain": [
              "                                                 titles                                         full_texts\n",
              "0     Жуткие подробности подготовки бойни в аграрном...  Как стало известно « МК » , устроить « шутинг ...\n",
              "1     Жуткие подробности подготовки бойни в аграрном...   У него не складывались отношения со сверстник...\n",
              "2     Жуткие подробности подготовки бойни в аграрном...   Это и послужило мотивом для подготовки массов...\n",
              "3     Жуткие подробности подготовки бойни в аграрном...       Банин не хотел устраивать теракт в одиночку \n",
              "4     Жуткие подробности подготовки бойни в аграрном...   Осенью 2019 года он начал активно переписыват...\n",
              "...                                                 ...                                                ...\n",
              "2457  Обвиненный в изнасиловании дочери добился комп...   Лишь стараниями следователей СК он вновь обре...\n",
              "2458  Обвиненный в изнасиловании дочери добился комп...   Однако об аресте стало известно друзьям и кол...\n",
              "2459  Обвиненный в изнасиловании дочери добился комп...   Чтобы восстановить свое доброе имя , отец пос...\n",
              "2460  Обвиненный в изнасиловании дочери добился комп...   Каширский суд постановил выплатить ему компен...\n",
              "2461  Обвиненный в изнасиловании дочери добился комп...                                                   \n",
              "\n",
              "[2462 rows x 2 columns]"
            ]
          },
          "metadata": {
            "tags": []
          },
          "execution_count": 16
        }
      ]
    },
    {
      "cell_type": "markdown",
      "metadata": {
        "id": "XLczVP6ZyPHe"
      },
      "source": [
        "Она работает! То же самое, только делим предложения на слова с созданием новых строк - но с теми же заголовками и предложениями"
      ]
    },
    {
      "cell_type": "code",
      "metadata": {
        "id": "JoFSZ35fyPHf"
      },
      "source": [
        "my_dataframe['words'] = my_dataframe['full_texts']\n",
        "lst_col = 'words' \n",
        "\n",
        "x = my_dataframe.assign(**{lst_col:my_dataframe[lst_col].str.split(' ')})\n",
        "\n",
        "my_final_dataframe = pd.DataFrame({col:np.repeat(x[col].values, x[lst_col].str.len()) for col in x.columns.difference([lst_col])}).assign(**{lst_col:np.concatenate(x[lst_col].values)})[x.columns.tolist()]"
      ],
      "execution_count": 17,
      "outputs": []
    },
    {
      "cell_type": "code",
      "metadata": {
        "id": "OT7eg4d1yPHj",
        "outputId": "5f03e76c-43a6-4999-f5c1-3379d642409c",
        "colab": {
          "base_uri": "https://localhost:8080/",
          "height": 399
        }
      },
      "source": [
        "my_final_dataframe"
      ],
      "execution_count": 18,
      "outputs": [
        {
          "output_type": "execute_result",
          "data": {
            "text/html": [
              "<div>\n",
              "<style scoped>\n",
              "    .dataframe tbody tr th:only-of-type {\n",
              "        vertical-align: middle;\n",
              "    }\n",
              "\n",
              "    .dataframe tbody tr th {\n",
              "        vertical-align: top;\n",
              "    }\n",
              "\n",
              "    .dataframe thead th {\n",
              "        text-align: right;\n",
              "    }\n",
              "</style>\n",
              "<table border=\"1\" class=\"dataframe\">\n",
              "  <thead>\n",
              "    <tr style=\"text-align: right;\">\n",
              "      <th></th>\n",
              "      <th>titles</th>\n",
              "      <th>full_texts</th>\n",
              "      <th>words</th>\n",
              "    </tr>\n",
              "  </thead>\n",
              "  <tbody>\n",
              "    <tr>\n",
              "      <th>0</th>\n",
              "      <td>Жуткие подробности подготовки бойни в аграрном...</td>\n",
              "      <td>Как стало известно « МК » , устроить « шутинг ...</td>\n",
              "      <td>Как</td>\n",
              "    </tr>\n",
              "    <tr>\n",
              "      <th>1</th>\n",
              "      <td>Жуткие подробности подготовки бойни в аграрном...</td>\n",
              "      <td>Как стало известно « МК » , устроить « шутинг ...</td>\n",
              "      <td>стало</td>\n",
              "    </tr>\n",
              "    <tr>\n",
              "      <th>2</th>\n",
              "      <td>Жуткие подробности подготовки бойни в аграрном...</td>\n",
              "      <td>Как стало известно « МК » , устроить « шутинг ...</td>\n",
              "      <td>известно</td>\n",
              "    </tr>\n",
              "    <tr>\n",
              "      <th>3</th>\n",
              "      <td>Жуткие подробности подготовки бойни в аграрном...</td>\n",
              "      <td>Как стало известно « МК » , устроить « шутинг ...</td>\n",
              "      <td>«</td>\n",
              "    </tr>\n",
              "    <tr>\n",
              "      <th>4</th>\n",
              "      <td>Жуткие подробности подготовки бойни в аграрном...</td>\n",
              "      <td>Как стало известно « МК » , устроить « шутинг ...</td>\n",
              "      <td>МК</td>\n",
              "    </tr>\n",
              "    <tr>\n",
              "      <th>...</th>\n",
              "      <td>...</td>\n",
              "      <td>...</td>\n",
              "      <td>...</td>\n",
              "    </tr>\n",
              "    <tr>\n",
              "      <th>42433</th>\n",
              "      <td>Обвиненный в изнасиловании дочери добился комп...</td>\n",
              "      <td>Каширский суд постановил выплатить ему компен...</td>\n",
              "      <td>200</td>\n",
              "    </tr>\n",
              "    <tr>\n",
              "      <th>42434</th>\n",
              "      <td>Обвиненный в изнасиловании дочери добился комп...</td>\n",
              "      <td>Каширский суд постановил выплатить ему компен...</td>\n",
              "      <td>тысяч</td>\n",
              "    </tr>\n",
              "    <tr>\n",
              "      <th>42435</th>\n",
              "      <td>Обвиненный в изнасиловании дочери добился комп...</td>\n",
              "      <td>Каширский суд постановил выплатить ему компен...</td>\n",
              "      <td>рублей</td>\n",
              "    </tr>\n",
              "    <tr>\n",
              "      <th>42436</th>\n",
              "      <td>Обвиненный в изнасиловании дочери добился комп...</td>\n",
              "      <td>Каширский суд постановил выплатить ему компен...</td>\n",
              "      <td></td>\n",
              "    </tr>\n",
              "    <tr>\n",
              "      <th>42437</th>\n",
              "      <td>Обвиненный в изнасиловании дочери добился комп...</td>\n",
              "      <td></td>\n",
              "      <td></td>\n",
              "    </tr>\n",
              "  </tbody>\n",
              "</table>\n",
              "<p>42438 rows × 3 columns</p>\n",
              "</div>"
            ],
            "text/plain": [
              "                                                  titles  ...     words\n",
              "0      Жуткие подробности подготовки бойни в аграрном...  ...       Как\n",
              "1      Жуткие подробности подготовки бойни в аграрном...  ...     стало\n",
              "2      Жуткие подробности подготовки бойни в аграрном...  ...  известно\n",
              "3      Жуткие подробности подготовки бойни в аграрном...  ...         «\n",
              "4      Жуткие подробности подготовки бойни в аграрном...  ...        МК\n",
              "...                                                  ...  ...       ...\n",
              "42433  Обвиненный в изнасиловании дочери добился комп...  ...       200\n",
              "42434  Обвиненный в изнасиловании дочери добился комп...  ...     тысяч\n",
              "42435  Обвиненный в изнасиловании дочери добился комп...  ...    рублей\n",
              "42436  Обвиненный в изнасиловании дочери добился комп...  ...          \n",
              "42437  Обвиненный в изнасиловании дочери добился комп...  ...          \n",
              "\n",
              "[42438 rows x 3 columns]"
            ]
          },
          "metadata": {
            "tags": []
          },
          "execution_count": 18
        }
      ]
    },
    {
      "cell_type": "markdown",
      "metadata": {
        "id": "G1xMte9KyPHn"
      },
      "source": [
        "Чудно. Стаковерфлоу творит чудеса. Скормим эти чудеса пайморфи и создадим для важной нам выдачи еще три столбца"
      ]
    },
    {
      "cell_type": "code",
      "metadata": {
        "id": "y6bvvRfwyPHo"
      },
      "source": [
        "my_final_dataframe['lemma'] = my_final_dataframe.apply(lambda row: morph.parse(row.words)[0].normal_form, axis = 1)\n",
        "my_final_dataframe['form'] = my_final_dataframe.apply(lambda row: morph.parse(row.words)[0].tag, axis = 1)\n",
        "my_final_dataframe['POS'] = my_final_dataframe.apply(lambda row: morph.parse(row.words)[0].tag.POS, axis = 1)"
      ],
      "execution_count": 19,
      "outputs": []
    },
    {
      "cell_type": "code",
      "metadata": {
        "id": "H62Y77tVyPHt",
        "outputId": "3da1398b-13a5-4052-a674-1903b62ad2bd",
        "colab": {
          "base_uri": "https://localhost:8080/",
          "height": 399
        }
      },
      "source": [
        "my_final_dataframe"
      ],
      "execution_count": 21,
      "outputs": [
        {
          "output_type": "execute_result",
          "data": {
            "text/html": [
              "<div>\n",
              "<style scoped>\n",
              "    .dataframe tbody tr th:only-of-type {\n",
              "        vertical-align: middle;\n",
              "    }\n",
              "\n",
              "    .dataframe tbody tr th {\n",
              "        vertical-align: top;\n",
              "    }\n",
              "\n",
              "    .dataframe thead th {\n",
              "        text-align: right;\n",
              "    }\n",
              "</style>\n",
              "<table border=\"1\" class=\"dataframe\">\n",
              "  <thead>\n",
              "    <tr style=\"text-align: right;\">\n",
              "      <th></th>\n",
              "      <th>titles</th>\n",
              "      <th>full_texts</th>\n",
              "      <th>words</th>\n",
              "      <th>lemma</th>\n",
              "      <th>form</th>\n",
              "      <th>POS</th>\n",
              "    </tr>\n",
              "  </thead>\n",
              "  <tbody>\n",
              "    <tr>\n",
              "      <th>0</th>\n",
              "      <td>Жуткие подробности подготовки бойни в аграрном...</td>\n",
              "      <td>Как стало известно « МК » , устроить « шутинг ...</td>\n",
              "      <td>Как</td>\n",
              "      <td>как</td>\n",
              "      <td>CONJ</td>\n",
              "      <td>CONJ</td>\n",
              "    </tr>\n",
              "    <tr>\n",
              "      <th>1</th>\n",
              "      <td>Жуткие подробности подготовки бойни в аграрном...</td>\n",
              "      <td>Как стало известно « МК » , устроить « шутинг ...</td>\n",
              "      <td>стало</td>\n",
              "      <td>стать</td>\n",
              "      <td>VERB,perf,intr neut,sing,past,indc</td>\n",
              "      <td>VERB</td>\n",
              "    </tr>\n",
              "    <tr>\n",
              "      <th>2</th>\n",
              "      <td>Жуткие подробности подготовки бойни в аграрном...</td>\n",
              "      <td>Как стало известно « МК » , устроить « шутинг ...</td>\n",
              "      <td>известно</td>\n",
              "      <td>известно</td>\n",
              "      <td>PRED,pres</td>\n",
              "      <td>PRED</td>\n",
              "    </tr>\n",
              "    <tr>\n",
              "      <th>3</th>\n",
              "      <td>Жуткие подробности подготовки бойни в аграрном...</td>\n",
              "      <td>Как стало известно « МК » , устроить « шутинг ...</td>\n",
              "      <td>«</td>\n",
              "      <td>«</td>\n",
              "      <td>PNCT</td>\n",
              "      <td>None</td>\n",
              "    </tr>\n",
              "    <tr>\n",
              "      <th>4</th>\n",
              "      <td>Жуткие подробности подготовки бойни в аграрном...</td>\n",
              "      <td>Как стало известно « МК » , устроить « шутинг ...</td>\n",
              "      <td>МК</td>\n",
              "      <td>мк</td>\n",
              "      <td>NOUN,inan,masc,Sgtm,Fixd,Abbr,Orgn sing,nomn</td>\n",
              "      <td>NOUN</td>\n",
              "    </tr>\n",
              "    <tr>\n",
              "      <th>...</th>\n",
              "      <td>...</td>\n",
              "      <td>...</td>\n",
              "      <td>...</td>\n",
              "      <td>...</td>\n",
              "      <td>...</td>\n",
              "      <td>...</td>\n",
              "    </tr>\n",
              "    <tr>\n",
              "      <th>42433</th>\n",
              "      <td>Обвиненный в изнасиловании дочери добился комп...</td>\n",
              "      <td>Каширский суд постановил выплатить ему компен...</td>\n",
              "      <td>200</td>\n",
              "      <td>200</td>\n",
              "      <td>NUMB,intg</td>\n",
              "      <td>None</td>\n",
              "    </tr>\n",
              "    <tr>\n",
              "      <th>42434</th>\n",
              "      <td>Обвиненный в изнасиловании дочери добился комп...</td>\n",
              "      <td>Каширский суд постановил выплатить ему компен...</td>\n",
              "      <td>тысяч</td>\n",
              "      <td>тысяча</td>\n",
              "      <td>NOUN,inan,femn plur,gent</td>\n",
              "      <td>NOUN</td>\n",
              "    </tr>\n",
              "    <tr>\n",
              "      <th>42435</th>\n",
              "      <td>Обвиненный в изнасиловании дочери добился комп...</td>\n",
              "      <td>Каширский суд постановил выплатить ему компен...</td>\n",
              "      <td>рублей</td>\n",
              "      <td>рубль</td>\n",
              "      <td>NOUN,inan,masc plur,gent</td>\n",
              "      <td>NOUN</td>\n",
              "    </tr>\n",
              "    <tr>\n",
              "      <th>42436</th>\n",
              "      <td>Обвиненный в изнасиловании дочери добился комп...</td>\n",
              "      <td>Каширский суд постановил выплатить ему компен...</td>\n",
              "      <td></td>\n",
              "      <td></td>\n",
              "      <td>UNKN</td>\n",
              "      <td>None</td>\n",
              "    </tr>\n",
              "    <tr>\n",
              "      <th>42437</th>\n",
              "      <td>Обвиненный в изнасиловании дочери добился комп...</td>\n",
              "      <td></td>\n",
              "      <td></td>\n",
              "      <td></td>\n",
              "      <td>UNKN</td>\n",
              "      <td>None</td>\n",
              "    </tr>\n",
              "  </tbody>\n",
              "</table>\n",
              "<p>42438 rows × 6 columns</p>\n",
              "</div>"
            ],
            "text/plain": [
              "                                                  titles  ...   POS\n",
              "0      Жуткие подробности подготовки бойни в аграрном...  ...  CONJ\n",
              "1      Жуткие подробности подготовки бойни в аграрном...  ...  VERB\n",
              "2      Жуткие подробности подготовки бойни в аграрном...  ...  PRED\n",
              "3      Жуткие подробности подготовки бойни в аграрном...  ...  None\n",
              "4      Жуткие подробности подготовки бойни в аграрном...  ...  NOUN\n",
              "...                                                  ...  ...   ...\n",
              "42433  Обвиненный в изнасиловании дочери добился комп...  ...  None\n",
              "42434  Обвиненный в изнасиловании дочери добился комп...  ...  NOUN\n",
              "42435  Обвиненный в изнасиловании дочери добился комп...  ...  NOUN\n",
              "42436  Обвиненный в изнасиловании дочери добился комп...  ...  None\n",
              "42437  Обвиненный в изнасиловании дочери добился комп...  ...  None\n",
              "\n",
              "[42438 rows x 6 columns]"
            ]
          },
          "metadata": {
            "tags": []
          },
          "execution_count": 21
        }
      ]
    },
    {
      "cell_type": "markdown",
      "metadata": {
        "id": "NPAlRFesyPHz"
      },
      "source": [
        "Казалось бы, все хорошо, но как же - у нас прорехи в датафрейме, помешают рядом стоящие слова замечать. Исправим."
      ]
    },
    {
      "cell_type": "code",
      "metadata": {
        "id": "QCqwa2kCyPH0"
      },
      "source": [
        "my_final_dataframe.drop(my_final_dataframe[my_final_dataframe.words == ''].index, inplace=True)"
      ],
      "execution_count": 22,
      "outputs": []
    },
    {
      "cell_type": "code",
      "metadata": {
        "scrolled": false,
        "id": "DjocrjzkyPH5",
        "outputId": "e7cf2130-9f90-43e5-fe54-9795f0310808",
        "colab": {
          "base_uri": "https://localhost:8080/",
          "height": 399
        }
      },
      "source": [
        "my_final_dataframe"
      ],
      "execution_count": 23,
      "outputs": [
        {
          "output_type": "execute_result",
          "data": {
            "text/html": [
              "<div>\n",
              "<style scoped>\n",
              "    .dataframe tbody tr th:only-of-type {\n",
              "        vertical-align: middle;\n",
              "    }\n",
              "\n",
              "    .dataframe tbody tr th {\n",
              "        vertical-align: top;\n",
              "    }\n",
              "\n",
              "    .dataframe thead th {\n",
              "        text-align: right;\n",
              "    }\n",
              "</style>\n",
              "<table border=\"1\" class=\"dataframe\">\n",
              "  <thead>\n",
              "    <tr style=\"text-align: right;\">\n",
              "      <th></th>\n",
              "      <th>titles</th>\n",
              "      <th>full_texts</th>\n",
              "      <th>words</th>\n",
              "      <th>lemma</th>\n",
              "      <th>form</th>\n",
              "      <th>POS</th>\n",
              "    </tr>\n",
              "  </thead>\n",
              "  <tbody>\n",
              "    <tr>\n",
              "      <th>0</th>\n",
              "      <td>Жуткие подробности подготовки бойни в аграрном...</td>\n",
              "      <td>Как стало известно « МК » , устроить « шутинг ...</td>\n",
              "      <td>Как</td>\n",
              "      <td>как</td>\n",
              "      <td>CONJ</td>\n",
              "      <td>CONJ</td>\n",
              "    </tr>\n",
              "    <tr>\n",
              "      <th>1</th>\n",
              "      <td>Жуткие подробности подготовки бойни в аграрном...</td>\n",
              "      <td>Как стало известно « МК » , устроить « шутинг ...</td>\n",
              "      <td>стало</td>\n",
              "      <td>стать</td>\n",
              "      <td>VERB,perf,intr neut,sing,past,indc</td>\n",
              "      <td>VERB</td>\n",
              "    </tr>\n",
              "    <tr>\n",
              "      <th>2</th>\n",
              "      <td>Жуткие подробности подготовки бойни в аграрном...</td>\n",
              "      <td>Как стало известно « МК » , устроить « шутинг ...</td>\n",
              "      <td>известно</td>\n",
              "      <td>известно</td>\n",
              "      <td>PRED,pres</td>\n",
              "      <td>PRED</td>\n",
              "    </tr>\n",
              "    <tr>\n",
              "      <th>3</th>\n",
              "      <td>Жуткие подробности подготовки бойни в аграрном...</td>\n",
              "      <td>Как стало известно « МК » , устроить « шутинг ...</td>\n",
              "      <td>«</td>\n",
              "      <td>«</td>\n",
              "      <td>PNCT</td>\n",
              "      <td>None</td>\n",
              "    </tr>\n",
              "    <tr>\n",
              "      <th>4</th>\n",
              "      <td>Жуткие подробности подготовки бойни в аграрном...</td>\n",
              "      <td>Как стало известно « МК » , устроить « шутинг ...</td>\n",
              "      <td>МК</td>\n",
              "      <td>мк</td>\n",
              "      <td>NOUN,inan,masc,Sgtm,Fixd,Abbr,Orgn sing,nomn</td>\n",
              "      <td>NOUN</td>\n",
              "    </tr>\n",
              "    <tr>\n",
              "      <th>...</th>\n",
              "      <td>...</td>\n",
              "      <td>...</td>\n",
              "      <td>...</td>\n",
              "      <td>...</td>\n",
              "      <td>...</td>\n",
              "      <td>...</td>\n",
              "    </tr>\n",
              "    <tr>\n",
              "      <th>42431</th>\n",
              "      <td>Обвиненный в изнасиловании дочери добился комп...</td>\n",
              "      <td>Каширский суд постановил выплатить ему компен...</td>\n",
              "      <td>госказны</td>\n",
              "      <td>госказна</td>\n",
              "      <td>NOUN,inan,femn sing,gent</td>\n",
              "      <td>NOUN</td>\n",
              "    </tr>\n",
              "    <tr>\n",
              "      <th>42432</th>\n",
              "      <td>Обвиненный в изнасиловании дочери добился комп...</td>\n",
              "      <td>Каширский суд постановил выплатить ему компен...</td>\n",
              "      <td>–</td>\n",
              "      <td>–</td>\n",
              "      <td>PNCT</td>\n",
              "      <td>None</td>\n",
              "    </tr>\n",
              "    <tr>\n",
              "      <th>42433</th>\n",
              "      <td>Обвиненный в изнасиловании дочери добился комп...</td>\n",
              "      <td>Каширский суд постановил выплатить ему компен...</td>\n",
              "      <td>200</td>\n",
              "      <td>200</td>\n",
              "      <td>NUMB,intg</td>\n",
              "      <td>None</td>\n",
              "    </tr>\n",
              "    <tr>\n",
              "      <th>42434</th>\n",
              "      <td>Обвиненный в изнасиловании дочери добился комп...</td>\n",
              "      <td>Каширский суд постановил выплатить ему компен...</td>\n",
              "      <td>тысяч</td>\n",
              "      <td>тысяча</td>\n",
              "      <td>NOUN,inan,femn plur,gent</td>\n",
              "      <td>NOUN</td>\n",
              "    </tr>\n",
              "    <tr>\n",
              "      <th>42435</th>\n",
              "      <td>Обвиненный в изнасиловании дочери добился комп...</td>\n",
              "      <td>Каширский суд постановил выплатить ему компен...</td>\n",
              "      <td>рублей</td>\n",
              "      <td>рубль</td>\n",
              "      <td>NOUN,inan,masc plur,gent</td>\n",
              "      <td>NOUN</td>\n",
              "    </tr>\n",
              "  </tbody>\n",
              "</table>\n",
              "<p>37856 rows × 6 columns</p>\n",
              "</div>"
            ],
            "text/plain": [
              "                                                  titles  ...   POS\n",
              "0      Жуткие подробности подготовки бойни в аграрном...  ...  CONJ\n",
              "1      Жуткие подробности подготовки бойни в аграрном...  ...  VERB\n",
              "2      Жуткие подробности подготовки бойни в аграрном...  ...  PRED\n",
              "3      Жуткие подробности подготовки бойни в аграрном...  ...  None\n",
              "4      Жуткие подробности подготовки бойни в аграрном...  ...  NOUN\n",
              "...                                                  ...  ...   ...\n",
              "42431  Обвиненный в изнасиловании дочери добился комп...  ...  NOUN\n",
              "42432  Обвиненный в изнасиловании дочери добился комп...  ...  None\n",
              "42433  Обвиненный в изнасиловании дочери добился комп...  ...  None\n",
              "42434  Обвиненный в изнасиловании дочери добился комп...  ...  NOUN\n",
              "42435  Обвиненный в изнасиловании дочери добился комп...  ...  NOUN\n",
              "\n",
              "[37856 rows x 6 columns]"
            ]
          },
          "metadata": {
            "tags": []
          },
          "execution_count": 23
        }
      ]
    },
    {
      "cell_type": "markdown",
      "metadata": {
        "id": "HfCmI4wMyPH9"
      },
      "source": [
        "И все бы ладно, да знаки препинания!"
      ]
    },
    {
      "cell_type": "code",
      "metadata": {
        "id": "9kE6M-zxyPH-",
        "outputId": "04e4e12c-2212-472b-a98b-4f37a5703df7",
        "colab": {
          "base_uri": "https://localhost:8080/",
          "height": 399
        }
      },
      "source": [
        "punkt = [',', ';', ':', '\"']\n",
        "my_final_dataframe.drop(my_final_dataframe[my_final_dataframe.words.isin (punkt)].index, inplace=True)\n",
        "my_final_dataframe"
      ],
      "execution_count": 24,
      "outputs": [
        {
          "output_type": "execute_result",
          "data": {
            "text/html": [
              "<div>\n",
              "<style scoped>\n",
              "    .dataframe tbody tr th:only-of-type {\n",
              "        vertical-align: middle;\n",
              "    }\n",
              "\n",
              "    .dataframe tbody tr th {\n",
              "        vertical-align: top;\n",
              "    }\n",
              "\n",
              "    .dataframe thead th {\n",
              "        text-align: right;\n",
              "    }\n",
              "</style>\n",
              "<table border=\"1\" class=\"dataframe\">\n",
              "  <thead>\n",
              "    <tr style=\"text-align: right;\">\n",
              "      <th></th>\n",
              "      <th>titles</th>\n",
              "      <th>full_texts</th>\n",
              "      <th>words</th>\n",
              "      <th>lemma</th>\n",
              "      <th>form</th>\n",
              "      <th>POS</th>\n",
              "    </tr>\n",
              "  </thead>\n",
              "  <tbody>\n",
              "    <tr>\n",
              "      <th>0</th>\n",
              "      <td>Жуткие подробности подготовки бойни в аграрном...</td>\n",
              "      <td>Как стало известно « МК » , устроить « шутинг ...</td>\n",
              "      <td>Как</td>\n",
              "      <td>как</td>\n",
              "      <td>CONJ</td>\n",
              "      <td>CONJ</td>\n",
              "    </tr>\n",
              "    <tr>\n",
              "      <th>1</th>\n",
              "      <td>Жуткие подробности подготовки бойни в аграрном...</td>\n",
              "      <td>Как стало известно « МК » , устроить « шутинг ...</td>\n",
              "      <td>стало</td>\n",
              "      <td>стать</td>\n",
              "      <td>VERB,perf,intr neut,sing,past,indc</td>\n",
              "      <td>VERB</td>\n",
              "    </tr>\n",
              "    <tr>\n",
              "      <th>2</th>\n",
              "      <td>Жуткие подробности подготовки бойни в аграрном...</td>\n",
              "      <td>Как стало известно « МК » , устроить « шутинг ...</td>\n",
              "      <td>известно</td>\n",
              "      <td>известно</td>\n",
              "      <td>PRED,pres</td>\n",
              "      <td>PRED</td>\n",
              "    </tr>\n",
              "    <tr>\n",
              "      <th>3</th>\n",
              "      <td>Жуткие подробности подготовки бойни в аграрном...</td>\n",
              "      <td>Как стало известно « МК » , устроить « шутинг ...</td>\n",
              "      <td>«</td>\n",
              "      <td>«</td>\n",
              "      <td>PNCT</td>\n",
              "      <td>None</td>\n",
              "    </tr>\n",
              "    <tr>\n",
              "      <th>4</th>\n",
              "      <td>Жуткие подробности подготовки бойни в аграрном...</td>\n",
              "      <td>Как стало известно « МК » , устроить « шутинг ...</td>\n",
              "      <td>МК</td>\n",
              "      <td>мк</td>\n",
              "      <td>NOUN,inan,masc,Sgtm,Fixd,Abbr,Orgn sing,nomn</td>\n",
              "      <td>NOUN</td>\n",
              "    </tr>\n",
              "    <tr>\n",
              "      <th>...</th>\n",
              "      <td>...</td>\n",
              "      <td>...</td>\n",
              "      <td>...</td>\n",
              "      <td>...</td>\n",
              "      <td>...</td>\n",
              "      <td>...</td>\n",
              "    </tr>\n",
              "    <tr>\n",
              "      <th>42431</th>\n",
              "      <td>Обвиненный в изнасиловании дочери добился комп...</td>\n",
              "      <td>Каширский суд постановил выплатить ему компен...</td>\n",
              "      <td>госказны</td>\n",
              "      <td>госказна</td>\n",
              "      <td>NOUN,inan,femn sing,gent</td>\n",
              "      <td>NOUN</td>\n",
              "    </tr>\n",
              "    <tr>\n",
              "      <th>42432</th>\n",
              "      <td>Обвиненный в изнасиловании дочери добился комп...</td>\n",
              "      <td>Каширский суд постановил выплатить ему компен...</td>\n",
              "      <td>–</td>\n",
              "      <td>–</td>\n",
              "      <td>PNCT</td>\n",
              "      <td>None</td>\n",
              "    </tr>\n",
              "    <tr>\n",
              "      <th>42433</th>\n",
              "      <td>Обвиненный в изнасиловании дочери добился комп...</td>\n",
              "      <td>Каширский суд постановил выплатить ему компен...</td>\n",
              "      <td>200</td>\n",
              "      <td>200</td>\n",
              "      <td>NUMB,intg</td>\n",
              "      <td>None</td>\n",
              "    </tr>\n",
              "    <tr>\n",
              "      <th>42434</th>\n",
              "      <td>Обвиненный в изнасиловании дочери добился комп...</td>\n",
              "      <td>Каширский суд постановил выплатить ему компен...</td>\n",
              "      <td>тысяч</td>\n",
              "      <td>тысяча</td>\n",
              "      <td>NOUN,inan,femn plur,gent</td>\n",
              "      <td>NOUN</td>\n",
              "    </tr>\n",
              "    <tr>\n",
              "      <th>42435</th>\n",
              "      <td>Обвиненный в изнасиловании дочери добился комп...</td>\n",
              "      <td>Каширский суд постановил выплатить ему компен...</td>\n",
              "      <td>рублей</td>\n",
              "      <td>рубль</td>\n",
              "      <td>NOUN,inan,masc plur,gent</td>\n",
              "      <td>NOUN</td>\n",
              "    </tr>\n",
              "  </tbody>\n",
              "</table>\n",
              "<p>34748 rows × 6 columns</p>\n",
              "</div>"
            ],
            "text/plain": [
              "                                                  titles  ...   POS\n",
              "0      Жуткие подробности подготовки бойни в аграрном...  ...  CONJ\n",
              "1      Жуткие подробности подготовки бойни в аграрном...  ...  VERB\n",
              "2      Жуткие подробности подготовки бойни в аграрном...  ...  PRED\n",
              "3      Жуткие подробности подготовки бойни в аграрном...  ...  None\n",
              "4      Жуткие подробности подготовки бойни в аграрном...  ...  NOUN\n",
              "...                                                  ...  ...   ...\n",
              "42431  Обвиненный в изнасиловании дочери добился комп...  ...  NOUN\n",
              "42432  Обвиненный в изнасиловании дочери добился комп...  ...  None\n",
              "42433  Обвиненный в изнасиловании дочери добился комп...  ...  None\n",
              "42434  Обвиненный в изнасиловании дочери добился комп...  ...  NOUN\n",
              "42435  Обвиненный в изнасиловании дочери добился комп...  ...  NOUN\n",
              "\n",
              "[34748 rows x 6 columns]"
            ]
          },
          "metadata": {
            "tags": []
          },
          "execution_count": 24
        }
      ]
    },
    {
      "cell_type": "markdown",
      "metadata": {
        "id": "1ST6mw7lyPIE"
      },
      "source": [
        "Чистота, красота, и только мертвые с косами стоят...мертвые индексы, разумеется. Которые уже совершенно не соответствуют настоящим и будут бесполезны при проверке соседства. Создадим-ка новые"
      ]
    },
    {
      "cell_type": "code",
      "metadata": {
        "id": "1kD-P5dPyPIF"
      },
      "source": [
        "my_final_dataframe['ind'] = [i for i in range(34748)]"
      ],
      "execution_count": 25,
      "outputs": []
    },
    {
      "cell_type": "code",
      "metadata": {
        "scrolled": true,
        "id": "yU7r7cnGyPIN",
        "outputId": "bf70b047-dc77-4ce4-9940-1dddfb20ae42",
        "colab": {
          "base_uri": "https://localhost:8080/",
          "height": 634
        }
      },
      "source": [
        "my_final_dataframe[900:920]"
      ],
      "execution_count": 26,
      "outputs": [
        {
          "output_type": "execute_result",
          "data": {
            "text/html": [
              "<div>\n",
              "<style scoped>\n",
              "    .dataframe tbody tr th:only-of-type {\n",
              "        vertical-align: middle;\n",
              "    }\n",
              "\n",
              "    .dataframe tbody tr th {\n",
              "        vertical-align: top;\n",
              "    }\n",
              "\n",
              "    .dataframe thead th {\n",
              "        text-align: right;\n",
              "    }\n",
              "</style>\n",
              "<table border=\"1\" class=\"dataframe\">\n",
              "  <thead>\n",
              "    <tr style=\"text-align: right;\">\n",
              "      <th></th>\n",
              "      <th>titles</th>\n",
              "      <th>full_texts</th>\n",
              "      <th>words</th>\n",
              "      <th>lemma</th>\n",
              "      <th>form</th>\n",
              "      <th>POS</th>\n",
              "      <th>ind</th>\n",
              "    </tr>\n",
              "  </thead>\n",
              "  <tbody>\n",
              "    <tr>\n",
              "      <th>1109</th>\n",
              "      <td>Студентка-экскурсовод умерла внезапной смертью...</td>\n",
              "      <td>Дарья с широко открытыми глазами лежала на ас...</td>\n",
              "      <td>лежала</td>\n",
              "      <td>лежать</td>\n",
              "      <td>VERB,impf,intr femn,sing,past,indc</td>\n",
              "      <td>VERB</td>\n",
              "      <td>900</td>\n",
              "    </tr>\n",
              "    <tr>\n",
              "      <th>1110</th>\n",
              "      <td>Студентка-экскурсовод умерла внезапной смертью...</td>\n",
              "      <td>Дарья с широко открытыми глазами лежала на ас...</td>\n",
              "      <td>на</td>\n",
              "      <td>на</td>\n",
              "      <td>PREP</td>\n",
              "      <td>PREP</td>\n",
              "      <td>901</td>\n",
              "    </tr>\n",
              "    <tr>\n",
              "      <th>1111</th>\n",
              "      <td>Студентка-экскурсовод умерла внезапной смертью...</td>\n",
              "      <td>Дарья с широко открытыми глазами лежала на ас...</td>\n",
              "      <td>асфальте</td>\n",
              "      <td>асфальт</td>\n",
              "      <td>NOUN,inan,masc sing,loct</td>\n",
              "      <td>NOUN</td>\n",
              "      <td>902</td>\n",
              "    </tr>\n",
              "    <tr>\n",
              "      <th>1114</th>\n",
              "      <td>Студентка-экскурсовод умерла внезапной смертью...</td>\n",
              "      <td>« Скорая помощь » , прибывшая спустя считанны...</td>\n",
              "      <td>«</td>\n",
              "      <td>«</td>\n",
              "      <td>PNCT</td>\n",
              "      <td>None</td>\n",
              "      <td>903</td>\n",
              "    </tr>\n",
              "    <tr>\n",
              "      <th>1115</th>\n",
              "      <td>Студентка-экскурсовод умерла внезапной смертью...</td>\n",
              "      <td>« Скорая помощь » , прибывшая спустя считанны...</td>\n",
              "      <td>Скорая</td>\n",
              "      <td>скорый</td>\n",
              "      <td>ADJF,Qual femn,sing,nomn</td>\n",
              "      <td>ADJF</td>\n",
              "      <td>904</td>\n",
              "    </tr>\n",
              "    <tr>\n",
              "      <th>1116</th>\n",
              "      <td>Студентка-экскурсовод умерла внезапной смертью...</td>\n",
              "      <td>« Скорая помощь » , прибывшая спустя считанны...</td>\n",
              "      <td>помощь</td>\n",
              "      <td>помощь</td>\n",
              "      <td>NOUN,inan,femn sing,accs</td>\n",
              "      <td>NOUN</td>\n",
              "      <td>905</td>\n",
              "    </tr>\n",
              "    <tr>\n",
              "      <th>1117</th>\n",
              "      <td>Студентка-экскурсовод умерла внезапной смертью...</td>\n",
              "      <td>« Скорая помощь » , прибывшая спустя считанны...</td>\n",
              "      <td>»</td>\n",
              "      <td>»</td>\n",
              "      <td>PNCT</td>\n",
              "      <td>None</td>\n",
              "      <td>906</td>\n",
              "    </tr>\n",
              "    <tr>\n",
              "      <th>1119</th>\n",
              "      <td>Студентка-экскурсовод умерла внезапной смертью...</td>\n",
              "      <td>« Скорая помощь » , прибывшая спустя считанны...</td>\n",
              "      <td>прибывшая</td>\n",
              "      <td>прибыть</td>\n",
              "      <td>PRTF,perf,intr,past,actv femn,sing,nomn</td>\n",
              "      <td>PRTF</td>\n",
              "      <td>907</td>\n",
              "    </tr>\n",
              "    <tr>\n",
              "      <th>1120</th>\n",
              "      <td>Студентка-экскурсовод умерла внезапной смертью...</td>\n",
              "      <td>« Скорая помощь » , прибывшая спустя считанны...</td>\n",
              "      <td>спустя</td>\n",
              "      <td>спустя</td>\n",
              "      <td>PREP</td>\n",
              "      <td>PREP</td>\n",
              "      <td>908</td>\n",
              "    </tr>\n",
              "    <tr>\n",
              "      <th>1121</th>\n",
              "      <td>Студентка-экскурсовод умерла внезапной смертью...</td>\n",
              "      <td>« Скорая помощь » , прибывшая спустя считанны...</td>\n",
              "      <td>считанные</td>\n",
              "      <td>считать</td>\n",
              "      <td>PRTF,perf,tran,past,pssv,Adjx plur,nomn</td>\n",
              "      <td>PRTF</td>\n",
              "      <td>909</td>\n",
              "    </tr>\n",
              "    <tr>\n",
              "      <th>1122</th>\n",
              "      <td>Студентка-экскурсовод умерла внезапной смертью...</td>\n",
              "      <td>« Скорая помощь » , прибывшая спустя считанны...</td>\n",
              "      <td>минуты</td>\n",
              "      <td>минута</td>\n",
              "      <td>NOUN,inan,femn sing,gent</td>\n",
              "      <td>NOUN</td>\n",
              "      <td>910</td>\n",
              "    </tr>\n",
              "    <tr>\n",
              "      <th>1124</th>\n",
              "      <td>Студентка-экскурсовод умерла внезапной смертью...</td>\n",
              "      <td>« Скорая помощь » , прибывшая спустя считанны...</td>\n",
              "      <td>даже</td>\n",
              "      <td>даже</td>\n",
              "      <td>PRCL</td>\n",
              "      <td>PRCL</td>\n",
              "      <td>911</td>\n",
              "    </tr>\n",
              "    <tr>\n",
              "      <th>1125</th>\n",
              "      <td>Студентка-экскурсовод умерла внезапной смертью...</td>\n",
              "      <td>« Скорая помощь » , прибывшая спустя считанны...</td>\n",
              "      <td>не</td>\n",
              "      <td>не</td>\n",
              "      <td>PRCL</td>\n",
              "      <td>PRCL</td>\n",
              "      <td>912</td>\n",
              "    </tr>\n",
              "    <tr>\n",
              "      <th>1126</th>\n",
              "      <td>Студентка-экскурсовод умерла внезапной смертью...</td>\n",
              "      <td>« Скорая помощь » , прибывшая спустя считанны...</td>\n",
              "      <td>стала</td>\n",
              "      <td>стать</td>\n",
              "      <td>VERB,perf,intr femn,sing,past,indc</td>\n",
              "      <td>VERB</td>\n",
              "      <td>913</td>\n",
              "    </tr>\n",
              "    <tr>\n",
              "      <th>1127</th>\n",
              "      <td>Студентка-экскурсовод умерла внезапной смертью...</td>\n",
              "      <td>« Скорая помощь » , прибывшая спустя считанны...</td>\n",
              "      <td>приступать</td>\n",
              "      <td>приступать</td>\n",
              "      <td>INFN,impf,intr</td>\n",
              "      <td>INFN</td>\n",
              "      <td>914</td>\n",
              "    </tr>\n",
              "    <tr>\n",
              "      <th>1128</th>\n",
              "      <td>Студентка-экскурсовод умерла внезапной смертью...</td>\n",
              "      <td>« Скорая помощь » , прибывшая спустя считанны...</td>\n",
              "      <td>к</td>\n",
              "      <td>к</td>\n",
              "      <td>PREP</td>\n",
              "      <td>PREP</td>\n",
              "      <td>915</td>\n",
              "    </tr>\n",
              "    <tr>\n",
              "      <th>1129</th>\n",
              "      <td>Студентка-экскурсовод умерла внезапной смертью...</td>\n",
              "      <td>« Скорая помощь » , прибывшая спустя считанны...</td>\n",
              "      <td>реанимационным</td>\n",
              "      <td>реанимационный</td>\n",
              "      <td>ADJF masc,sing,ablt</td>\n",
              "      <td>ADJF</td>\n",
              "      <td>916</td>\n",
              "    </tr>\n",
              "    <tr>\n",
              "      <th>1130</th>\n",
              "      <td>Студентка-экскурсовод умерла внезапной смертью...</td>\n",
              "      <td>« Скорая помощь » , прибывшая спустя считанны...</td>\n",
              "      <td>действиям</td>\n",
              "      <td>действие</td>\n",
              "      <td>NOUN,inan,neut plur,datv</td>\n",
              "      <td>NOUN</td>\n",
              "      <td>917</td>\n",
              "    </tr>\n",
              "    <tr>\n",
              "      <th>1131</th>\n",
              "      <td>Студентка-экскурсовод умерла внезапной смертью...</td>\n",
              "      <td>« Скорая помощь » , прибывшая спустя считанны...</td>\n",
              "      <td>—</td>\n",
              "      <td>—</td>\n",
              "      <td>PNCT</td>\n",
              "      <td>None</td>\n",
              "      <td>918</td>\n",
              "    </tr>\n",
              "    <tr>\n",
              "      <th>1132</th>\n",
              "      <td>Студентка-экскурсовод умерла внезапной смертью...</td>\n",
              "      <td>« Скорая помощь » , прибывшая спустя считанны...</td>\n",
              "      <td>женщина</td>\n",
              "      <td>женщина</td>\n",
              "      <td>NOUN,anim,femn sing,nomn</td>\n",
              "      <td>NOUN</td>\n",
              "      <td>919</td>\n",
              "    </tr>\n",
              "  </tbody>\n",
              "</table>\n",
              "</div>"
            ],
            "text/plain": [
              "                                                 titles  ...  ind\n",
              "1109  Студентка-экскурсовод умерла внезапной смертью...  ...  900\n",
              "1110  Студентка-экскурсовод умерла внезапной смертью...  ...  901\n",
              "1111  Студентка-экскурсовод умерла внезапной смертью...  ...  902\n",
              "1114  Студентка-экскурсовод умерла внезапной смертью...  ...  903\n",
              "1115  Студентка-экскурсовод умерла внезапной смертью...  ...  904\n",
              "1116  Студентка-экскурсовод умерла внезапной смертью...  ...  905\n",
              "1117  Студентка-экскурсовод умерла внезапной смертью...  ...  906\n",
              "1119  Студентка-экскурсовод умерла внезапной смертью...  ...  907\n",
              "1120  Студентка-экскурсовод умерла внезапной смертью...  ...  908\n",
              "1121  Студентка-экскурсовод умерла внезапной смертью...  ...  909\n",
              "1122  Студентка-экскурсовод умерла внезапной смертью...  ...  910\n",
              "1124  Студентка-экскурсовод умерла внезапной смертью...  ...  911\n",
              "1125  Студентка-экскурсовод умерла внезапной смертью...  ...  912\n",
              "1126  Студентка-экскурсовод умерла внезапной смертью...  ...  913\n",
              "1127  Студентка-экскурсовод умерла внезапной смертью...  ...  914\n",
              "1128  Студентка-экскурсовод умерла внезапной смертью...  ...  915\n",
              "1129  Студентка-экскурсовод умерла внезапной смертью...  ...  916\n",
              "1130  Студентка-экскурсовод умерла внезапной смертью...  ...  917\n",
              "1131  Студентка-экскурсовод умерла внезапной смертью...  ...  918\n",
              "1132  Студентка-экскурсовод умерла внезапной смертью...  ...  919\n",
              "\n",
              "[20 rows x 7 columns]"
            ]
          },
          "metadata": {
            "tags": []
          },
          "execution_count": 26
        }
      ]
    },
    {
      "cell_type": "markdown",
      "metadata": {
        "id": "xGls6JIpyPIU"
      },
      "source": [
        "Вуаля! Теперь можно с чистой совестью сохранять в базу данных. Ссв, правда. "
      ]
    },
    {
      "cell_type": "code",
      "metadata": {
        "id": "i2oL0xugyPIV"
      },
      "source": [
        "my_final_dataframe.to_csv('clean_textbase_parsed.csv')"
      ],
      "execution_count": null,
      "outputs": []
    },
    {
      "cell_type": "markdown",
      "metadata": {
        "id": "NLFNMGpHyPIg"
      },
      "source": [
        "## MAIN"
      ]
    },
    {
      "cell_type": "markdown",
      "metadata": {
        "id": "8tZwmDtLyPI_"
      },
      "source": [
        "Итак, вот и пришло время для воплощения самой функции мэйн, которая будет искать в нашем корпусе нужные нам слова"
      ]
    },
    {
      "cell_type": "markdown",
      "metadata": {
        "id": "g7qemc37yPJB"
      },
      "source": [
        "Для начала, дернем из документации пайморфи список поддерживаемых тегов:"
      ]
    },
    {
      "cell_type": "markdown",
      "metadata": {
        "id": "DtkY6i8lyPJC"
      },
      "source": [
        "NOUN\tимя существительное\n",
        "\n",
        "ADJF\tимя прилагательное (полное)\n",
        "\n",
        "ADJS\tимя прилагательное (краткое)\n",
        "\n",
        "COMP\tкомпаратив\n",
        "\n",
        "VERB\tглагол (личная форма)\n",
        "\n",
        "INFN\tглагол (инфинитив)\n",
        "\n",
        "PRTF\tпричастие (полное)\n",
        "\n",
        "PRTS\tпричастие (краткое)\n",
        "\n",
        "GRND\tдеепричастие\n",
        "\n",
        "NUMR\tчислительное\n",
        "\n",
        "ADVB\tнаречие\n",
        "\n",
        "NPRO\tместоимение-существительное\n",
        "\n",
        "PRED\tпредикатив\n",
        "\n",
        "PREP\tпредлог\n",
        "\n",
        "CONJ\tсоюз\n",
        "\n",
        "PRCL\tчастица\n",
        "\n",
        "INTJ\tмеждометие"
      ]
    },
    {
      "cell_type": "markdown",
      "metadata": {
        "id": "Yy5UnJWoyPJD"
      },
      "source": [
        "Пригодится. Теперь осталась только одна маленькая декоративная деталь - класс ошибок, который поможет нам тихо-мирно выходить из ячейки, если пользователь косячит:"
      ]
    },
    {
      "cell_type": "code",
      "metadata": {
        "id": "FDhAKTuCyPJD",
        "outputId": "bf1b7cf3-5a24-49cb-cb9f-68e618cf98dc",
        "colab": {
          "base_uri": "https://localhost:8080/",
          "height": 61
        }
      },
      "source": [
        "class StopExecution(Exception):\n",
        "    def _render_traceback_(self):\n",
        "        pass\n",
        "\n",
        "raise StopExecution"
      ],
      "execution_count": 27,
      "outputs": [
        {
          "output_type": "error",
          "ename": "StopExecution",
          "evalue": "ignored",
          "traceback": [
            ""
          ]
        }
      ]
    },
    {
      "cell_type": "markdown",
      "metadata": {
        "id": "Uv6Zz8rPyPJG"
      },
      "source": [
        "Его основные преимущества это, во-первых, то, что он не убивает кернел - а это довольно раздражающая штука, - а во-вторых, он тихо выходит и не сообщает пользователю, где там что из-за его головотяпства упало."
      ]
    },
    {
      "cell_type": "markdown",
      "metadata": {
        "id": "XAOjJ3EYyPJH"
      },
      "source": [
        "Итак, функции-обработчики! Им будут поступать запросы, для которых уже определено, чего от нас хотят - это мельчайшие функции на самом низком уровне пищевой цепи, и задачи у них довольно простые и связаны с непосредственным поиском по базе"
      ]
    },
    {
      "cell_type": "code",
      "metadata": {
        "id": "vH8QrY1eyPJI"
      },
      "source": [
        "allowed_tags = ['NOUN', 'ADJF', 'ADJS', 'COMP', 'VERB', 'INFN', 'PRTF', 'PRTS', 'GRND', 'NUMR', 'ADVB', 'NPRO', 'PRED', 'PREP', 'CONJ', 'PRCL', 'INTJ']\n",
        "\n",
        "def get_morphology(dataframe, word):\n",
        "    #inputs dataframe and str, outputs dataframe and list\n",
        "    #looks for the same word\n",
        "    word1 = word.strip('\"')\n",
        "    df_word = dataframe.loc[dataframe['words'] == word1]\n",
        "    sentences = df_word['full_texts'].tolist()\n",
        "    if len(sentences)==0:\n",
        "        print('К сожалению, такого слова нет в моем словаре!')\n",
        "        raise StopExecution\n",
        "    else:\n",
        "        return df_word, sentences\n",
        "    \n",
        "def get_tagged(dataframe, word, allowed_tags=['NOUN', 'ADJF', 'ADJS', 'COMP', 'VERB', 'INFN', 'PRTF', 'PRTS', 'GRND', 'NUMR', 'ADVB', 'NPRO', 'PRED', 'PREP', 'CONJ', 'PRCL', 'INTJ']\n",
        "):\n",
        "    #inputs dataframe, list and str, outputs dataframe and list\n",
        "    #looks for specified lemma with specified POS \n",
        "    compl_word = word.split('+')\n",
        "    tag = set(allowed_tags)&set(compl_word)\n",
        "    if not tag:\n",
        "        print('К сожалению, я не знаю этот тег!')\n",
        "        raise StopExecution\n",
        "    else:\n",
        "        current_word = morph.parse(compl_word[0])[0]\n",
        "        current_word_lemma = current_word.normal_form\n",
        "        current_word_POS = current_word.tag.POS\n",
        "        df_word_POS = dataframe.loc[(dataframe['lemma'] == current_word_lemma) & (dataframe['POS'] == current_word_POS)]\n",
        "        sentences = df_word_POS['full_texts'].tolist()\n",
        "        return df_word_POS, sentences\n",
        "    \n",
        "def get_lemma(dataframe, word):\n",
        "    #inputs dataframe and str, outputs dataframe and list\n",
        "    #looks for the same lemma\n",
        "    word_lem_parsed = morph.parse(word)[0]\n",
        "    word_lem_lemma = word_lem_parsed.normal_form\n",
        "    df_lemma = dataframe.loc[(dataframe['lemma'] == word_lem_lemma)]\n",
        "    sentences = df_lemma['full_texts'].tolist()\n",
        "    if len(sentences)==0:\n",
        "        print('К сожалению, такого слова нет в моем словаре!')\n",
        "        raise StopExecution\n",
        "    else:\n",
        "        return df_lemma, sentences\n",
        "    \n",
        "def get_pos(dataframe, word):\n",
        "    #inputs dataframe and str, outputs dataframe and list\n",
        "    #looks for the same POS\n",
        "    df_pos = dataframe.loc[(dataframe['POS'] == word)]\n",
        "    sentences = df_pos['full_texts'].tolist()\n",
        "    if len(sentences)==0:\n",
        "        print('К сожалению, слов этой части речи нет в моем словаре!')\n",
        "        raise StopExecution\n",
        "    else:\n",
        "        return df_pos, sentences\n",
        "    "
      ],
      "execution_count": 28,
      "outputs": []
    },
    {
      "cell_type": "markdown",
      "metadata": {
        "id": "I7fZKz15yPJN"
      },
      "source": [
        "И вот, момент настал. Две самые крупные рыбы в этом море. Функция работы со словами - та самая станция сортировки, которая определяет, какому именно поисковику перенаправить запрос, и заодно отвечает пользователю, что именно он попросил. Функция работы с запросами токенизирует их по пробелам (зачем множить токенизаторы без необходимости?), и в зависимости от количества токенов выдает ответ: предложения, в которых встретились слова, и заголовки статей, откуда эти предложения к нам попали. Оптимизируем поиск мы постепенным сужением круга поиска - результат поиска по первому слову сужает круг, второе слово ищется уже в выдаче предложений для первого, третье - в выдаче для второго. "
      ]
    },
    {
      "cell_type": "code",
      "metadata": {
        "id": "mKc7m8dmyPJO"
      },
      "source": [
        "def work_with_words(dataframe, word, allowed_tags=allowed_tags):\n",
        "    trick = word[0]\n",
        "    if trick=='\"':\n",
        "        print('вы запрашиваете слова этой леммы в этой форме')\n",
        "        return get_morphology(dataframe, word)\n",
        "    elif '+' in word:\n",
        "        print('вы запрашиваете лемму с конкретной частью речи')\n",
        "        return get_tagged(dataframe, word, allowed_tags=allowed_tags)\n",
        "    elif word in allowed_tags:\n",
        "        print('вы запрашиваете все слова по тегу этой части речи')\n",
        "        return get_pos(dataframe, word)\n",
        "    else:\n",
        "        print('вы запрашиваете поиск по лемме')\n",
        "        return get_lemma(dataframe, word)\n",
        "    \n",
        "def work_with_quiery(quiery):\n",
        "    quiery_parsed = quiery.split(' ')\n",
        "    print(quiery_parsed)\n",
        "    if len(quiery_parsed)==1:\n",
        "        print('1')\n",
        "        answer,_ = work_with_words(my_final_dataframe, quiery_parsed[0], allowed_tags=allowed_tags)\n",
        "        list_words = []\n",
        "        for index, row in answer.iterrows():\n",
        "            answer_word = str('Это слово встретилось в предложении:'+ row['full_texts'] + '. | которое было в статье: ' + row['titles'])\n",
        "            list_words.append(answer_word)\n",
        "        return list_words\n",
        "    \n",
        "    elif len(quiery_parsed)==2:\n",
        "        print('2')\n",
        "        list_sentences = []\n",
        "        first_answer, first_sentences = work_with_words(my_final_dataframe, quiery_parsed[0], allowed_tags=allowed_tags)\n",
        "        indexes = first_answer['ind'].tolist()\n",
        "        indexes = [x + 1 for x in indexes]\n",
        "        second_answer_pool = my_final_dataframe.loc[my_final_dataframe['full_texts'].isin(first_sentences)]\n",
        "        second_answer, second_sentences = work_with_words(second_answer_pool, quiery_parsed[1], allowed_tags=allowed_tags)\n",
        "        second_indexes = second_answer['ind'].tolist()\n",
        "        right_index = set(indexes)&set(second_indexes)\n",
        "        if not right_index:\n",
        "            print('К сожалению, в моем корпусе нет ничего по вашему запросу')\n",
        "        else:\n",
        "            for elem in right_index:\n",
        "                    locate_row = my_final_dataframe.loc[my_final_dataframe['ind'] == elem]\n",
        "                    for index, row in locate_row.iterrows():\n",
        "                        answer_word = str('Эти слова встретилось в предложении:'+ row['full_texts'] + '. | которое было в статье: ' + row['titles'])\n",
        "                        list_sentences.append(answer_word)\n",
        "        return list_sentences\n",
        "    \n",
        "    elif len(quiery_parsed)==3:\n",
        "        print('3')\n",
        "        list_sentences = []\n",
        "        first_answer, first_sentences = work_with_words(my_final_dataframe, quiery_parsed[0], allowed_tags=allowed_tags)\n",
        "        indexes = first_answer['ind'].tolist()\n",
        "        indexes = [x + 1 for x in indexes]\n",
        "        second_answer_pool = my_final_dataframe.loc[my_final_dataframe['full_texts'].isin(first_sentences)]\n",
        "        second_answer, second_sentences = work_with_words(second_answer_pool, quiery_parsed[1], allowed_tags=allowed_tags)\n",
        "        second_indexes = second_answer['ind'].tolist()\n",
        "        right_index = set(indexes)&set(second_indexes)\n",
        "        if not right_index:\n",
        "            print('К сожалению, в моем корпусе нет ничего по вашему запросу')\n",
        "        else:\n",
        "            right_index = [x + 1 for x in right_index]\n",
        "            third_answer_pool = my_final_dataframe.loc[my_final_dataframe['full_texts'].isin(second_sentences)]\n",
        "            third_answer, third_sentences = work_with_words(third_answer_pool, quiery_parsed[2], allowed_tags=allowed_tags)\n",
        "            third_indexes = third_answer['ind'].tolist()\n",
        "            master_index = set(right_index)&set(third_indexes)\n",
        "            if not master_index:\n",
        "                print('К сожалению, в моем корпусе нет ничего по вашему запросу')\n",
        "            else:\n",
        "                for elem in master_index:\n",
        "                    locate_row = my_final_dataframe.loc[my_final_dataframe['ind'] == elem]\n",
        "                    for index, row in locate_row.iterrows():\n",
        "                        answer_word = str('Эти слова встретились в предложении:'+ row['full_texts'] + ', которое было в статье: ' + row['titles'])\n",
        "                        list_sentences.append(answer_word)\n",
        "        return list_sentences        \n",
        "    else:\n",
        "        print ('К сожалению, я не обрабатываю запросы длиннее трех токенов')\n",
        "        raise StopExecution"
      ],
      "execution_count": 29,
      "outputs": []
    },
    {
      "cell_type": "markdown",
      "metadata": {
        "id": "LoTxIsCOyPJT"
      },
      "source": [
        "Тадаам! Вот и мэйн. У него здесь дел немного - еще раз проверить, не возникла ли нигде ошибка с ненайденными ответами, которую мы не перехватили, а пользователю видеть и не надо, и предложить пользователю дать запрос. "
      ]
    },
    {
      "cell_type": "code",
      "metadata": {
        "id": "2d4W7iL2yPJV"
      },
      "source": [
        "def main():\n",
        "    quiery = input('Что ищем? Не более трех слов в запросе! ')\n",
        "    try:\n",
        "        answer = work_with_quiery(quiery)\n",
        "        for i in answer:\n",
        "            print(i)\n",
        "            print('\\n')\n",
        "    except TypeError:\n",
        "        print('Что-то пошло не так. Попробуйте переформулировать запрос')\n",
        "        raise StopExecution"
      ],
      "execution_count": 30,
      "outputs": []
    },
    {
      "cell_type": "code",
      "metadata": {
        "id": "LLSSB4rIyPJa",
        "outputId": "add0326c-7bcb-4993-d1bf-f8049ea7769b",
        "colab": {
          "base_uri": "https://localhost:8080/",
          "height": 1000
        }
      },
      "source": [
        "main()"
      ],
      "execution_count": 31,
      "outputs": [
        {
          "output_type": "stream",
          "text": [
            "Что ищем? Не более трех слов в запросе! дом+NOUN\n",
            "['дом+NOUN']\n",
            "1\n",
            "вы запрашиваете лемму с конкретной частью речи\n",
            "Это слово встретилось в предложении: - Они сказали , что видели троих подростков , которые ходили с палками , просовывали их в продухи в фундаменте домов и проверяли , не греются ли в подвалах кошки . | которое было в статье: Банда начала зверски убивать кошек в Лобне\n",
            "\n",
            "\n",
            "Это слово встретилось в предложении: В интернете они познакомились с Некрасовым и под предлогом вступления в интимные отношения договорились о встрече дома у Некрасова . | которое было в статье: Российский силовик замучил до смерти помощника прокурора из-за сексуальной ориентации\n",
            "\n",
            "\n",
            "Это слово встретилось в предложении: - Женщина открыла свое ООО по пошиву одежды , и , пока трудилась на работе , ее дочка все делала по хозяйству дома . | которое было в статье: Девочка сбежала от матери, делавшей из нее рабыню\n",
            "\n",
            "\n",
            "Это слово встретилось в предложении: А поскольку « контактные » лица обязаны соблюдать самоизоляцию , медики осуществят забор материала для анализа на дому . | которое было в статье: Составлен рейтинг мошенничеств с коронавирусом\n",
            "\n",
            "\n",
            "Это слово встретилось в предложении: Далее к абоненту , пока он не успел прийти в себя , оперативно прибывает бригада « медиков » , берет образец слюны , 5000 руб оплаты с учетом выезда на дом — и исчезает навсегда . | которое было в статье: Составлен рейтинг мошенничеств с коронавирусом\n",
            "\n",
            "\n",
            "Это слово встретилось в предложении: Им предлагают помощь с оплатой счетов ЖКХ , покупкой продуктов или лекарств , чтобы они лишний раз не рисковали здоровьем , выходя из дома . | которое было в статье: Составлен рейтинг мошенничеств с коронавирусом\n",
            "\n",
            "\n",
            "Это слово встретилось в предложении: Злоумышленники могут также ходить по домам , « оформляя заявки на льготные путевки в санаторий » , для чего требуется сообщить личные данные и внести предоплату . | которое было в статье: Составлен рейтинг мошенничеств с коронавирусом\n",
            "\n",
            "\n",
            "Это слово встретилось в предложении: Столкнувшись с настойчивыми попытками под любым предлогом выманить данные , деньги , проникнуть в дом , сообщайте об этом в полицию . | которое было в статье: Составлен рейтинг мошенничеств с коронавирусом\n",
            "\n",
            "\n",
            "Это слово встретилось в предложении: Для спуска в колодец друзья серьезно подготовились , из имеющихся дома веревок они сделали страховочные ремни , и приступили к демонтажным работам . | которое было в статье: Москвич провалился в колодец на дачном участке и погиб\n",
            "\n",
            "\n",
            "Это слово встретилось в предложении:По данным следствия , днем 25 августа двое полицейских в ходе оперативно-розыскных действий оказались около подъезда дома в Дмитровском переулке . | которое было в статье: В Петербурге полицейские избили и ограбили случайного юношу, розыскивая преступника\n",
            "\n",
            "\n",
            "Это слово встретилось в предложении: Насильника задержали в доме на 2-ой Владимирской улице . | которое было в статье: Надругавшийся над двумя малышками мигрант пытался сбежать в окно\n",
            "\n",
            "\n",
            "Это слово встретилось в предложении: Также в доме было найдено множество следов крови на постельном белье . | которое было в статье: Вдовца Легкоступовой проверяют на причастность к гибели  еще одной женщины\n",
            "\n",
            "\n",
            "Это слово встретилось в предложении: Буденного пели русские и украинские песни , даже плясали , часто спорили и , порой даже резко , обращаясь друг с другом на « ты » , как это было п ринято в партийной среде… » Двухэтажный дом , где обитал Иосиф Виссарионович , насчитывал 12 комнат . | которое было в статье: Гастарбайтера арестовали возле дачи Сталина: хранит страшную тайну\n",
            "\n",
            "\n",
            "Это слово встретилось в предложении: Вот что вспоминала о зубаловском житье-бытье дочь вождя Светлана Аллилуева в своей книге « Двадцать писем к другу » : « Солнечный дом , в котором прошло мое детство , принадлежал раньше младшему Зубалову , нефтепромышленнику из Батума . | которое было в статье: Гастарбайтера арестовали возле дачи Сталина: хранит страшную тайну\n",
            "\n",
            "\n",
            "Это слово встретилось в предложении: Анастас Микоян с семьей и детьми , Ворошилов и несколько семей старых большевиков разместились в Зубалове-2 , а отец с мамой ― в Зубалове-4 , неподалеку , где дом был меньше . | которое было в статье: Гастарбайтера арестовали возле дачи Сталина: хранит страшную тайну\n",
            "\n",
            "\n",
            "Это слово встретилось в предложении: Построенный для него загородный дом , обнесенный высоченным забором , очень походил на неприступную крепость . | которое было в статье: Гастарбайтера арестовали возле дачи Сталина: хранит страшную тайну\n",
            "\n",
            "\n",
            "Это слово встретилось в предложении:Как сообщал ранее « МК » , труп специалиста центра дефектологии был обнаружен 5 октября возле дома на Севастопольском проспекте . | которое было в статье: Детский дефектолог, погибший в Москве, оказался педофилом\n",
            "\n",
            "\n",
            "Это слово встретилось в предложении: Ребенка они взяли из детского дома , куда девочка попала после чудовищного происшествия . | которое было в статье: Выбрасывали в окно, душили: 4-летнюю девочку изувечили приемные родители\n",
            "\n",
            "\n",
            "Это слово встретилось в предложении: В три года ее попытались устроить в ясли , но из-за жалоб воспитателей на ее невыносимый характер девочку пришлось воспитывать дома . | которое было в статье: Выбрасывали в окно, душили: 4-летнюю девочку изувечили приемные родители\n",
            "\n",
            "\n",
            "Это слово встретилось в предложении: Но , когда Саид и Абуезид перебрались в Москву ( это было в середине « нулевых » годов ) , правоохранители уже проявляли интерес к этой семье — ходили слухи , что Анзоровы пустили в свой дом в Шалажи боевиков . | которое было в статье: Опубликованы фото чеченца Абдулака Анзорова, убившего учителя под Парижем\n",
            "\n",
            "\n",
            "Это слово встретилось в предложении: Очевидец снял происходящее из окна своего дома . | которое было в статье: Опубликовано видео ликвидации чеченца, обезглавившего учителя под Парижем\n",
            "\n",
            "\n",
            "Это слово встретилось в предложении: В своем посте далее он сообщил следующее : днем того дня участковый врач сказал , что нужно вызвать скорую помощь на дом , но только после того , как температура перевалит за 39 . | которое было в статье: Пенсионер с подозрением на коронавирус умер \"в прямом эфире\"\n",
            "\n",
            "\n",
            "Это слово встретилось в предложении: При этом пенсионер сообщил , что госпитализировать его отказались , лечения не назначили , а якобы посоветовали сидеть дома и ждать , когда придудт делать тест на COVID-19 . | которое было в статье: Пенсионер с подозрением на коронавирус умер \"в прямом эфире\"\n",
            "\n",
            "\n",
            "Это слово встретилось в предложении: `` Сотрудники поликлиники предлагали ему сдать тест в больнице , - говорилось в публикации портала `` Рифей '' , - но дисциплинированный пенсионер боится кого-нибудь заразить и не выходит из дома '' . | которое было в статье: Пенсионер с подозрением на коронавирус умер \"в прямом эфире\"\n",
            "\n",
            "\n",
            "Это слово встретилось в предложении: Позднее подруга семьи рассказывала журналистам , что в тот день Гилеву стало совсем плохо , его супруга `` побежала к терапевту , очень ругалась '' , дошла до главврача , тогда ему снова вызвали скорую на дом . | которое было в статье: Пенсионер с подозрением на коронавирус умер \"в прямом эфире\"\n",
            "\n",
            "\n",
            "Это слово встретилось в предложении: В большом доме , расположенном по улице Ленинской , жили две женщины . | которое было в статье: Названы возможные причины провала дома в Брянской области: бывает периодически\n",
            "\n",
            "\n",
            "Это слово встретилось в предложении: Одной удалось спастись : ее часть дома осталась нетронутой , в 15-ти метровую яму глубиной в семь метров ушли комнаты , где проживала 70-летняя пенсионерка . | которое было в статье: Названы возможные причины провала дома в Брянской области: бывает периодически\n",
            "\n",
            "\n",
            "Это слово встретилось в предложении: Как рассказали « МК » в администрации поселка , дом , который ушел под землю , считался многоквартирным . | которое было в статье: Названы возможные причины провала дома в Брянской области: бывает периодически\n",
            "\n",
            "\n",
            "Это слово встретилось в предложении: И по их данным , женщина точно в ту ночь была дома . | которое было в статье: Названы возможные причины провала дома в Брянской области: бывает периодически\n",
            "\n",
            "\n",
            "Это слово встретилось в предложении: Всего 4 дома до полотна » - рассказали в администрации . | которое было в статье: Названы возможные причины провала дома в Брянской области: бывает периодически\n",
            "\n",
            "\n",
            "Это слово встретилось в предложении: « Грохает там так , что у нас дома трясутся » . | которое было в статье: Названы возможные причины провала дома в Брянской области: бывает периодически\n",
            "\n",
            "\n",
            "Это слово встретилось в предложении: Он несколько месяцев не выходил из дома , у него был упадок сил , рассеянное сознание . | которое было в статье: В гибели знаменитого ученого Абаева нашелся след шаманов\n",
            "\n",
            "\n",
            "Это слово встретилось в предложении: В доме не было никаких продуктов . | которое было в статье: В гибели знаменитого ученого Абаева нашелся след шаманов\n",
            "\n",
            "\n",
            "Это слово встретилось в предложении: По словам актрисы , ценности стали пропадать около года назад с появлением в доме Валентины , которую Тумайкина наняла в качестве домработницы . | которое было в статье: Домработница актрисы Ольги Тумайкиной рассказала, куда дела украденные драгоценности\n",
            "\n",
            "\n",
            "Это слово встретилось в предложении: После этого актриса обнаружила , что из дома опять пропала ювелирка и приняла решение все же обратиться в правоохранительные органы . | которое было в статье: Домработница актрисы Ольги Тумайкиной рассказала, куда дела украденные драгоценности\n",
            "\n",
            "\n",
            "Это слово встретилось в предложении: Как оказалось , женщина и не думала никуда уезжать , находилась у себя дома . | которое было в статье: Домработница актрисы Ольги Тумайкиной рассказала, куда дела украденные драгоценности\n",
            "\n",
            "\n",
            "Это слово встретилось в предложении: Из дома высыпали десятки зевак , и кто-то из них сообщил , что этот карапуз с восьмого этажа из неблагополучной многодетной семьи - мол , мать там одна работает , отца нет , бабушка выпивает . | которое было в статье: За малышом, выпавшим с 8 этажа в Лобне, присматривала пьяная бабушка\n",
            "\n",
            "\n",
            "Это слово встретилось в предложении: - У этой мамаши давно нужно было деток забрать , - делится своим мнением еще одна жительница дома . | которое было в статье: За малышом, выпавшим с 8 этажа в Лобне, присматривала пьяная бабушка\n",
            "\n",
            "\n",
            "Это слово встретилось в предложении: Однако вместо этого 25 сентября лечащий врач сообщила , что сына Чугаевой передают в дом малютки . | которое было в статье: Таганрогский роддом украл ребенка у матери: вернули после громкого скандала\n",
            "\n",
            "\n",
            "Это слово встретилось в предложении: В роддоме ответили , что , поскольку она с 4 сентября не посещала ребенка и не интересовалась его состоянием , то 14 сентября учреждению пришлось составить акт об оставлении младенца , а 21 сентября отдел опеки Таганрога издал приказ о помещении малыша в дом малютки . | которое было в статье: Таганрогский роддом украл ребенка у матери: вернули после громкого скандала\n",
            "\n",
            "\n",
            "Это слово встретилось в предложении: В своем заявлении она указала на подделку документов : « От ребенка я не отказывалась , все необходимые документы при поступлении в родильный дом у меня были при себе и паспорт передавался лечащему врачу для оформления родов . | которое было в статье: Таганрогский роддом украл ребенка у матери: вернули после громкого скандала\n",
            "\n",
            "\n",
            "Это слово встретилось в предложении: Несмотря на это , в Акт об оставлении ребенка в родильном доме от 14 сентября 2020 года внесены заведомо ложные сведения о том , что у меня якобы отсутствовали документы , и мои данные были записаны с моих слов , и я покинула роддом , оформив согласие на усыновление » . | которое было в статье: Таганрогский роддом украл ребенка у матери: вернули после громкого скандала\n",
            "\n",
            "\n",
            "Это слово встретилось в предложении: Его быстрая реакция и сработала : ребенка успели забрать из Дома малютки до того , как он был куда-либо передан . | которое было в статье: Таганрогский роддом украл ребенка у матери: вернули после громкого скандала\n",
            "\n",
            "\n",
            "Это слово встретилось в предложении:По данным издания , пакеты с останками были найдены в районе дома № 38 по проспекту Обуховской Обороны . | которое было в статье: В Петербурге из Невы выловили пакеты с недостающими человеческими останками\n",
            "\n",
            "\n",
            "Это слово встретилось в предложении: Ольга отметила в своем обращении в « Инстаграме » , что у нее дома не стоит система наблюдения . | которое было в статье: Домработница актрисы Ольги Тумайкиной украла все из ее тайников\n",
            "\n",
            "\n",
            "Это слово встретилось в предложении: Актриса добавила , что несколько недель назад домработница покинула ее дом и вернулась к себе на родину в Запорожье . | которое было в статье: Домработница актрисы Ольги Тумайкиной украла все из ее тайников\n",
            "\n",
            "\n",
            "Это слово встретилось в предложении: В сентябре нерадивая мать устроилась на работу уборщицей в фитнес-центр , после чего дочь и сын вновь переехали в частный дом . | которое было в статье: Убитая и изнасилованная в Домодедово школьница хранила невинность для возлюбленного\n",
            "\n",
            "\n",
            "Это слово встретилось в предложении: Подозреваемого задержали в съемном доме на соседней улице , где он жил с отчимом . | которое было в статье: Убитая и изнасилованная в Домодедово школьница хранила невинность для возлюбленного\n",
            "\n",
            "\n",
            "Это слово встретилось в предложении: Женщина хорошо себя зарекомендовала и стала убираться в доме Тумайкиной . | которое было в статье: Киноактриса Ольга Тумайкина пострадала от домработницы: пропали драгоценности\n",
            "\n",
            "\n",
            "Это слово встретилось в предложении: Вскоре после этого из дома стали пропадать украшения и подарки , но хозяйка не придавала этому значения , думая , что сама их куда-то спрятала . | которое было в статье: Киноактриса Ольга Тумайкина пострадала от домработницы: пропали драгоценности\n",
            "\n",
            "\n",
            "Это слово встретилось в предложении: Жильцы дома скорбят по пенсионерке , которой помогали всем миром . | которое было в статье: Московская пенсионерка завещала квартиру сиделке и совершила самоубийство\n",
            "\n",
            "\n",
            "Это слово встретилось в предложении: Причем обыск под руководством следователя , который ранее угрожал Марине посадить ее мать , поместить ее ребенка в детский дом и прочее . | которое было в статье: Подробности задержания тещи рэпера Картрайта: забрали ребенка\n",
            "\n",
            "\n",
            "Это слово встретилось в предложении: По непонятной причине капитальный ремонт в квартире пенсионерки не проводился с момента постройки дома ( с 1975 года ) . | которое было в статье: Вдова советского генерала Глаголева утонула в кипятке в московской квартире\n",
            "\n",
            "\n",
            "Это слово встретилось в предложении:Как стало известно « МК » , 13 октября около 17 часов сотрудник охраны одного из жилых домов в районе Дорогомилово услышал странный глухой звук . | которое было в статье: В Москве домохозяйка совершила самоубийство накануне визита к врачу\n",
            "\n",
            "\n",
            "Это слово встретилось в предложении: Она оказалась жительницей этого дома . | которое было в статье: В Москве домохозяйка совершила самоубийство накануне визита к врачу\n",
            "\n",
            "\n",
            "Это слово встретилось в предложении: Читайте материал : Собчак показала фото своего нового роскошного дома за 40 млн. | которое было в статье: Неизвестные чуть не украли внучку актера Владимира Конкина\n",
            "\n",
            "\n",
            "Это слово встретилось в предложении:Как стало известно « МК » , 19-летний парень родом из Санкт-Петербурга , а в Москве жил в съемной квартире на 22-ом этаже в доме на улице Большая Очаковская . | которое было в статье: Правнук бывшего президента Афганистана обвинил декана МГИМО в своем самоубийстве\n",
            "\n",
            "\n",
            "Это слово встретилось в предложении:Как стало известно « МК » , машина была угнана от дома ветерана авиации на улице Супруна в городе Щелково Московской области . | которое было в статье: Подробности кражи внедорожника у летчика-рекордсмена Ресницкого: обманули навороченную противоугонку\n",
            "\n",
            "\n",
            "Это слово встретилось в предложении: Как поведал сам Юрий Петрович , 11 октября он приехал домой около восьми вечера и как обычно припарковал свою машину ( 2019 года выпуска ) на огороженной парковке возле дома . | которое было в статье: Подробности кражи внедорожника у летчика-рекордсмена Ресницкого: обманули навороченную противоугонку\n",
            "\n",
            "\n",
            "Это слово встретилось в предложении: А когда на следующий день , примерно в восемь утра , он вышел из дома , то с огромным огорчением обнаружил , что машина исчезла . | которое было в статье: Подробности кражи внедорожника у летчика-рекордсмена Ресницкого: обманули навороченную противоугонку\n",
            "\n",
            "\n",
            "Это слово встретилось в предложении: Полицейский раздобыл тележку , положил в него труп Виктории и вывез его из дома в поле , которое расположено в километре от деревни , где и закопал его . | которое было в статье: Появились шокирующие подробности убийства трансгендера полицейским в Новосибирске\n",
            "\n",
            "\n",
            "Это слово встретилось в предложении:Как сообщал в свое время « МК » , маньяк-сантехник , 53-летний водитель жилконторы Андрей Ежов , в течение нескольких лет забирался в дома одиноких пенсионеров , душил беззащитных женщин , а потом совокуплялся с трупами . | которое было в статье: Обвиненный в изнасиловании дочери добился компенсации за незаконный арест\n",
            "\n",
            "\n",
            "Это слово встретилось в предложении: Преступник забрался на 2-й этаж дома , где спала 10-летняя девочка , сжал ей горло и изнасиловал . | которое было в статье: Обвиненный в изнасиловании дочери добился компенсации за незаконный арест\n",
            "\n",
            "\n"
          ],
          "name": "stdout"
        }
      ]
    }
  ]
}