{
 "cells": [
  {
   "cell_type": "markdown",
   "metadata": {},
   "source": [
    "Общая ячейка для всех импортов"
   ]
  },
  {
   "cell_type": "code",
   "execution_count": 78,
   "metadata": {},
   "outputs": [],
   "source": [
    "import requests\n",
    "from tqdm import tqdm\n",
    "from bs4 import BeautifulSoup\n",
    "from fake_useragent import UserAgent\n",
    "from nltk import word_tokenize\n",
    "from collections import Counter\n",
    "from pymorphy2 import MorphAnalyzer\n",
    "morph = MorphAnalyzer()\n",
    "from sklearn.metrics import accuracy_score\n",
    "\n",
    "ua = UserAgent(verify_ssl=False)\n",
    "session = requests.session()"
   ]
  },
  {
   "cell_type": "markdown",
   "metadata": {},
   "source": [
    "Сегодня мы будем смотреть на отзывы клиентов банков и по их лексике пытаться предсказать их опыт общения с банком!\n",
    "Возможно, возникнут проблемы: профессионально-экономическую лексику сложновато по тональности оценить, а ее явно будет много\n",
    "Пройдемся по сайту, соберем все отзывы с оценкой \"1\" или \"5\" (да, этот сайт это кошмар веб-разработчика в плане наименований классов); добавим ссылки на нужные отзывы в списки"
   ]
  },
  {
   "cell_type": "code",
   "execution_count": 108,
   "metadata": {},
   "outputs": [
    {
     "name": "stderr",
     "output_type": "stream",
     "text": [
      "100%|████████████████████████████████████████████████████████████████████████████████| 100/100 [02:23<00:00,  1.44s/it]\n"
     ]
    }
   ],
   "source": [
    "neg_reviews = []\n",
    "positive_reviews = []\n",
    "page_number = 0\n",
    "for i in tqdm(range(100)):\n",
    "    page_number += 1\n",
    "    url = f'https://www.sravni.ru/banki/otzyvy/?page={page_number}'\n",
    "    req = session.get(url, headers={'User-Agent': ua.random})\n",
    "    req.encoding = 'utf-8'\n",
    "    page = req.text\n",
    "    soup = BeautifulSoup(page, 'html.parser')\n",
    "    reviews = soup.find_all('div', {'class': '_3qkdy _7QkVd'})\n",
    "    for review in reviews:\n",
    "        rating = review.find('span', {'class': '_1OBr6'})\n",
    "        link = review.find('a', {'class': 'mrfZC'}).attrs['href']\n",
    "        if rating:\n",
    "            for child in rating.children:\n",
    "                rating = child\n",
    "            if rating == '1':\n",
    "                neg_reviews.append(link)\n",
    "            elif rating == '5':\n",
    "                positive_reviews.append(link)\n",
    "    "
   ]
  },
  {
   "cell_type": "markdown",
   "metadata": {},
   "source": [
    "Проверим, сколько у нас получилось отзывов"
   ]
  },
  {
   "cell_type": "code",
   "execution_count": 109,
   "metadata": {},
   "outputs": [
    {
     "name": "stdout",
     "output_type": "stream",
     "text": [
      "amount of positives: 825\n",
      "amount of negatives: 345\n"
     ]
    }
   ],
   "source": [
    "print ('amount of positives:', len (positive_reviews))\n",
    "print ('amount of negatives:', len (neg_reviews))"
   ]
  },
  {
   "cell_type": "markdown",
   "metadata": {},
   "source": [
    "Это маленькая песочница, чтобы посмотреть, будет ли работать большая функция, гуляющая по ссылкам и вытаскивающая тексты: посмотрим заодно на один пример"
   ]
  },
  {
   "cell_type": "code",
   "execution_count": 114,
   "metadata": {},
   "outputs": [
    {
     "name": "stdout",
     "output_type": "stream",
     "text": [
      "https://sravni.ru/bank/gazprombank/otzyv/379671/?page=3\n",
      "здравствуйте всем. ужасное обслуживание. 25 09 2020 года я решил взять кредит , узнал про ставку 6.9 процента и пришел в это отделение банка. сорок минут я сидел дожидаясь очереди на прием к оператору ну бог с ним финансы есть финансы. через 40 минут загорелся мой номер на табло и я попал к оператору зайцевой анне. вот тут я понял почему очередь идет так медленно. одну минуту она занималась моим вопросом потом ей принесла какие-то бумаги соседний оператор и на этом закончилось мое обслуживание. зайцева анна в течении 10 минут 3 раза поговорила по сотовому телефону , набирая какую-то информацию на компьютере, и задавая мне не чего не значащие вопросы. после десяти минут такого обслуживания я возмутился и забрал документы собрался уходить тут она меня поразила полностью своей фразой : \"да успокойтесь вы садитесь я сейчас вами займусь\". обалдеть так эти 10 минут она занималась не мной , а чем? может быть она проверяла домашнюю работу ребенка? я понимаю что я пришел просить денег , но зачем так откровенно об людей ноги вытирать ? я пенсионер , мне 60 лет . я провел в банке почти час и понял какие мы все-таки ничтожные людишки по отношению к оператору газпромбанка анне зайцевой. просто я на контрасте отношения оператора и клиента. буквально за два часа до этого я приходил в это отделение банка. посещение от входа в банк и выход из банка составило 10 минут. я зашел взял талон через пару минут меня пригласили к оператору . девушка оператор буквально в течении 2-3 минут рассказала , поняв мой вопрос, всю нужную мне информацию и сказала что нужно взять справку о доходах пенсионера в мфц. очень жаль что я не посмотрел фамилию этого оператора ,вот молодец ,я бы написал ей благодарность так-бы всем в этом банке работать. я поехал в мфц взял справку и вернулся в банк но банк оказался прямой противоположностью того где я был 2 часа назад.\n",
      "\n"
     ]
    }
   ],
   "source": [
    "link = neg_reviews[10]\n",
    "new_link = f'https://sravni.ru{link}'\n",
    "print(new_link)\n",
    "req = session.get(new_link, headers={'User-Agent': ua.random})\n",
    "req.encoding = 'utf-8'\n",
    "req = req.text\n",
    "req = BeautifulSoup(req, 'html.parser')\n",
    "new_text = req.find('div', {'class': \"_3lM0q\"}).text.lower()\n",
    "if new_text:\n",
    "    print(new_text)\n",
    "else:\n",
    "    print('damn')"
   ]
  },
  {
   "cell_type": "markdown",
   "metadata": {},
   "source": [
    "Выглядит правдоподобно. Сделаем это функцией, распарсим и посчитаем статистику!"
   ]
  },
  {
   "cell_type": "code",
   "execution_count": 115,
   "metadata": {},
   "outputs": [],
   "source": [
    "def get_full_reviews(link_list):\n",
    "    words = []\n",
    "    for link in link_list:\n",
    "        new_link = f'https://sravni.ru{link}'\n",
    "        req = session.get(new_link, headers={'User-Agent': ua.random})\n",
    "        req.encoding = 'utf-8'\n",
    "        req = req.text\n",
    "        req = BeautifulSoup(req, 'html.parser')\n",
    "        new_text = req.find('div', {'class': '_3lM0q'})\n",
    "        if new_text:\n",
    "            new_text = new_text.text.lower()\n",
    "        new_text = word_tokenize(new_text)\n",
    "        for word in new_text:\n",
    "            if word.isalpha():\n",
    "                words.append(morph.parse(word)[0][2])\n",
    "    words = dict(Counter(words))\n",
    "    return words"
   ]
  },
  {
   "cell_type": "markdown",
   "metadata": {},
   "source": [
    "Возьмем из общего списка ту часть, на которой будем учиться - по 300 штук, чтобы сбалансировать разное количество отзывов в двух блоках - нам надо, чтобы обоим на тестовый датасет хватило"
   ]
  },
  {
   "cell_type": "code",
   "execution_count": 116,
   "metadata": {},
   "outputs": [],
   "source": [
    "positive_dict = get_full_reviews(positive_reviews[:300])\n",
    "neg_dict = get_full_reviews(neg_reviews[:300])"
   ]
  },
  {
   "cell_type": "markdown",
   "metadata": {},
   "source": [
    "Посмотрим, сколько у нас получилось слов"
   ]
  },
  {
   "cell_type": "code",
   "execution_count": 117,
   "metadata": {},
   "outputs": [
    {
     "name": "stdout",
     "output_type": "stream",
     "text": [
      "there are  2982  words in the positive dictionary\n",
      "there are 4847  words in the negative dictionary\n"
     ]
    }
   ],
   "source": [
    "print(\"there are \", len(positive_dict), \" words in the positive dictionary\")\n",
    "print(\"there are\", len (neg_dict), \" words in the negative dictionary\")"
   ]
  },
  {
   "cell_type": "markdown",
   "metadata": {},
   "source": [
    "Хорошо, теперь можно заняться множествами. Отсеем все малоупотребимые слова:"
   ]
  },
  {
   "cell_type": "code",
   "execution_count": 118,
   "metadata": {},
   "outputs": [],
   "source": [
    "def make_set(dictionary):\n",
    "    word_set = []\n",
    "    for word, freq in dictionary.items():\n",
    "        if freq > 2:\n",
    "            word_set.append(word)\n",
    "    word_set = set(word_set)\n",
    "    return word_set"
   ]
  },
  {
   "cell_type": "markdown",
   "metadata": {},
   "source": [
    "Применим эту полезную функцию для наших позитивного и негативного тренировочных датасетов:\n",
    "(сначала делим на тест и тренировку, потом обрабатываем - можно получить утечку данных в обучении!)"
   ]
  },
  {
   "cell_type": "code",
   "execution_count": 119,
   "metadata": {},
   "outputs": [],
   "source": [
    "positive_set = make_set(positive_dict) \n",
    "neg_set = make_set(neg_dict)"
   ]
  },
  {
   "cell_type": "markdown",
   "metadata": {},
   "source": [
    "Вычеркнем все, что нам не нравится: избавимся от шумов и общих слов"
   ]
  },
  {
   "cell_type": "code",
   "execution_count": 120,
   "metadata": {},
   "outputs": [],
   "source": [
    "full_set = positive_set & neg_set\n",
    "positive_set = positive_set.difference(full_set)\n",
    "neg_set = neg_set.difference(full_set)"
   ]
  },
  {
   "cell_type": "markdown",
   "metadata": {},
   "source": [
    "И вот она, функция для тональностей! Сообщаем ей ссылки на тестовый датасет и просим оценить тональность отзывов"
   ]
  },
  {
   "cell_type": "code",
   "execution_count": 122,
   "metadata": {},
   "outputs": [],
   "source": [
    "def tone(link):\n",
    "    positives = negatives = 0\n",
    "    words = get_full_reviews([link,])\n",
    "    for word, freq in words.items():\n",
    "        if word in positive_set:\n",
    "            positives += 1*freq\n",
    "        elif word in neg_set:\n",
    "            negatives += 1*freq\n",
    "    if positives > negatives:\n",
    "        result = 'positive'\n",
    "    elif positives < negatives:\n",
    "        result = 'negative'\n",
    "    else:\n",
    "        result = 'fifty-fifty'\n",
    "    return result"
   ]
  },
  {
   "cell_type": "markdown",
   "metadata": {},
   "source": [
    "Венец творения - последняя функция, поможет нам определить точность; пусть подскажет нам разницу между предсказанием и реальностью"
   ]
  },
  {
   "cell_type": "code",
   "execution_count": 123,
   "metadata": {},
   "outputs": [],
   "source": [
    "def main_acc(positives, negatives):\n",
    "    Y_hat = []\n",
    "    Y = []\n",
    "    for text in positives:\n",
    "        Y_hat.append(tone(text))\n",
    "        Y.append('positive')\n",
    "    for text in negatives:\n",
    "        Y_hat.append(tone(text))\n",
    "        Y.append('negative')\n",
    "    return accuracy_score(Y_hat, Y)"
   ]
  },
  {
   "cell_type": "code",
   "execution_count": 125,
   "metadata": {},
   "outputs": [
    {
     "name": "stdout",
     "output_type": "stream",
     "text": [
      "0.7555555555555555\n"
     ]
    }
   ],
   "source": [
    "print(main_acc(positive_reviews[300:345], neg_reviews[300:]))"
   ]
  },
  {
   "cell_type": "markdown",
   "metadata": {},
   "source": [
    "Что можно улучшить? Вероятно, сделать что-то с аббревиатурами (вычеркнуть все слова, написанные только капсом?), порисовать красивых графиков, отсортировать отзывы по разным банкам. Возможно, для некоторых банков вероятность того, что отзыв о нем отрицательный:)"
   ]
  }
 ],
 "metadata": {
  "kernelspec": {
   "display_name": "Python 3",
   "language": "python",
   "name": "python3"
  },
  "language_info": {
   "codemirror_mode": {
    "name": "ipython",
    "version": 3
   },
   "file_extension": ".py",
   "mimetype": "text/x-python",
   "name": "python",
   "nbconvert_exporter": "python",
   "pygments_lexer": "ipython3",
   "version": "3.7.4"
  }
 },
 "nbformat": 4,
 "nbformat_minor": 2
}
